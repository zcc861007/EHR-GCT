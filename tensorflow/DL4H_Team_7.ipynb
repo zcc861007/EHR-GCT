{
  "nbformat": 4,
  "nbformat_minor": 0,
  "metadata": {
    "colab": {
      "provenance": []
    },
    "kernelspec": {
      "name": "python3",
      "display_name": "Python 3"
    },
    "language_info": {
      "name": "python"
    }
  },
  "cells": [
    {
      "cell_type": "markdown",
      "source": [
        "# Team ID: 7\n",
        "## Project\n",
        "Learning the graphical structure of electronic health records with graph convolutional transformer\n",
        "## Member\n",
        "Chaochao Zhou (cz76@illinois.edu)\n",
        "## Github Link\n",
        "https://github.com/zcc861007/EHR-GCT"
      ],
      "metadata": {
        "id": "I_muKlJ846on"
      }
    },
    {
      "cell_type": "markdown",
      "source": [
        "# Before you use this template\n",
        "\n",
        "This template is just a recommended template for project Report. It only considers the general type of research in our paper pool. Feel free to edit it to better fit your project. You will iteratively update the same notebook submission for your draft and the final submission. Please check the project rubriks to get a sense of what is expected in the template.\n",
        "\n",
        "---\n",
        "\n",
        "# FAQ and Attentions\n",
        "* Copy and move this template to your Google Drive. Name your notebook by your team ID (upper-left corner). Don't eidt this original file.\n",
        "* This template covers most questions we want to ask about your reproduction experiment. You don't need to exactly follow the template, however, you should address the questions. Please feel free to customize your report accordingly.\n",
        "* Any report must have run-able codes and necessary annotations (in text and code comments).\n",
        "* The notebook is like a demo and only uses small-size data (a subset of original data or processed data), the entire runtime of the notebook including data reading, data process, model training, printing, figure plotting, etc,\n",
        "must be within 8 min, otherwise, you may get penalty on the grade.\n",
        "  * If the raw dataset is too large to be loaded  you can select a subset of data and pre-process the data, then, upload the subset or processed data to Google Drive and load them in this notebook.\n",
        "  * If the whole training is too long to run, you can only set the number of training epoch to a small number, e.g., 3, just show that the training is runable.\n",
        "  * For results model validation, you can train the model outside this notebook in advance, then, load pretrained model and use it for validation (display the figures, print the metrics).\n",
        "* The post-process is important! For post-process of the results, please use plots/figures. The code to summarize results and plot figures may be tedious, however, it won't be waste of time since these figures can be used for presentation. While plotting in code, the figures should have titles or captions if necessary (e.g., title your figure with \"Figure 1. xxxx\")\n",
        "* There is not page limit to your notebook report, you can also use separate notebooks for the report, just make sure your grader can access and run/test them.\n",
        "* If you use outside resources, please refer them (in any formats). Include the links to the resources if necessary."
      ],
      "metadata": {
        "id": "j01aH0PR4Sg-"
      }
    },
    {
      "cell_type": "markdown",
      "source": [
        "# Mount Notebook to Google Drive\n",
        "Upload the data, pretrianed model, figures, etc to your Google Drive, then mount this notebook to Google Drive. After that, you can access the resources freely.\n",
        "\n",
        "Instruction: https://colab.research.google.com/notebooks/io.ipynb\n",
        "\n",
        "Example: https://colab.research.google.com/drive/1srw_HFWQ2SMgmWIawucXfusGzrj1_U0q\n",
        "\n",
        "Video: https://www.youtube.com/watch?v=zc8g8lGcwQU"
      ],
      "metadata": {
        "id": "dlv6knX04FiY"
      }
    },
    {
      "cell_type": "code",
      "source": [
        "# from google.colab import drive\n",
        "# drive.mount('/content/drive')"
      ],
      "metadata": {
        "id": "sfk8Zrul_E8V"
      },
      "execution_count": 1,
      "outputs": []
    },
    {
      "cell_type": "markdown",
      "source": [
        "# Introduction\n",
        "This is an introduction to your report, you should edit this text/mardown section to compose. In this text/markdown, you should introduce:\n",
        "\n",
        "*   Background of the problem\n",
        "  * what type of problem: disease/readmission/mortality prediction, feature engineeing, data processing, etc\\\n",
        "  `In this project, we attempt to reconstruct the graph structure of diagnoses and treatments in a single visit, while predicting the readmission based on the learned embedding of the single visit.`\n",
        "  * what is the importance/meaning of solving the problem\\\n",
        "  `Previous studies (e.g., MiME) have demonstrated that incorporating the hierarchical structures in EHR data, such as the relations between diagnosis and treatments, can significantly boost accuracy of prediction tasks, such as heart failure prediction. `\n",
        "  * what is the difficulty of the problem\\\n",
        "  `However, most publicly available EHR data do not always contain the entire structure information. In particular, when it comes to claims data, such structure information is completely unavailable.`\n",
        "  * the state of the art methods and effectiveness.\\\n",
        "  `Many graph networks can be described as different ways to aggregate a given node’s neighbor information, combine it with the given node, and derive the node’s latent representation (Xu et al. 2019). Some recent works focused on the connection between the Transformer’s self-attention and graph networks (Battagliaet al. 2018). Graph Attention Networks (Velickovic et al. 2018) applied self-attention on top of the adjacency matrix to learn non-static edge weights, and (Wang et al. 2018) used self-attention to capture non-local dependencies in images.`\n",
        "*   Paper explanation\n",
        "  * what did the paper propose\\\n",
        "  `The authors proposed Graph Convolutional Transformer (GCT), a novel approach to jointly learn the hidden encounter structure while performing various prediction tasks when the structure information is unavailable.`\n",
        "  * what is the innovations of the method\\\n",
        "  `Learning effective patterns from raw EHR data is an essential step for improving the performance of many downstream prediction tasks. The work addressed the issue where the previous state-of-the-art method required the complete encounter structure information, and proposed GCT to capture the underlying encounter structure when the structure information is unknown.`\n",
        "  * how well the proposed method work (in its own metrics)\\\n",
        "  `Table 4 shows the readmission prediction and mortality prediction performance of all models on eICU. As shown by GCT’s superior performance, it is evident that readmission prediction benefits from using the latent encounter structure.`\n",
        "  ![Prediction_performance.png](https://drive.google.com/uc?id=1S_hs9NrIl7_6-5f_nkhrUfiDRyps5_Vu)\n",
        "  * what is the contribution to the reasearch regime (referring the Background above, how important the paper is to the problem).\\\n",
        "  `Transformer is a suitable basis model to learn the hidden EHR structure, and the proposed Graph Convolutional Transformer uses data statistics to guide the structure learning process. The proposed model consistently outperformed previous approaches empirically, on both synthetic data and publicly available EHR data, for various prediction tasks such as graph reconstruction and readmission prediction, indicating that it can serve as an effective general-purpose representation learning algorithm for EHR data.`\n"
      ],
      "metadata": {
        "id": "MQ0sNuMePBXx"
      }
    },
    {
      "cell_type": "markdown",
      "source": [
        "* List hypotheses from the paper you will test and the corresponding experiments you will run.\n",
        "  1.   Hypothesis 1: \\\n",
        "       `GCT can rescontruct the graph structure in a single visit. To test it, we will plot the graph structure, represtned by the confusion matrix of the attention scores.`\n",
        "  2.   Hypothesis 2: \\\n",
        "       `Prediction performance can be improved by introducing prior condictional probabilities, based on the fact that some connections are not allowed in the encounter record (e.g., dignosis codes can only connect to treatments, instead of themselves), and unallowed connections can be represented by a mask M for attention scores. We will compared the performance with and without introducing piror`\n"
      ],
      "metadata": {
        "id": "uygL9tTPSVHB"
      }
    },
    {
      "cell_type": "markdown",
      "source": [
        "# Methodology\n",
        "\n",
        "This methodology is the core of your project. It consists of run-able codes with necessary annotations to show the expeiment you executed for testing the hypotheses.\n",
        "\n",
        "The methodology at least contains two subsections **data** and **model** in your experiment."
      ],
      "metadata": {
        "id": "xWAHJ_1CdtaA"
      }
    },
    {
      "cell_type": "code",
      "source": [
        "PROJ_DIR = '/content/drive/My Drive/Courses/CS598-DL4H/project'\n",
        "\n",
        "## import  packages you need\n",
        "import tensorflow as tf\n",
        "import numpy as np\n",
        "import os, sys\n",
        "import matplotlib.pyplot as plt\n",
        "import seaborn as sns\n",
        "\n",
        "# print(os.path.exists(PROJ_DIR))\n",
        "sys.path.append(os.path.join(PROJ_DIR, 'tensorflow'))\n",
        "from graph_convolutional_transformer import SequenceExampleParser, FeatureEmbedder, create_matrix_vdpl, create_matrix_vdp\n"
      ],
      "metadata": {
        "id": "yu61Jp1xrnKk"
      },
      "execution_count": 2,
      "outputs": []
    },
    {
      "cell_type": "markdown",
      "source": [
        "##  Data\n",
        "Data includes raw data (MIMIC III tables), descriptive statistics (our homework questions), and data processing (feature engineering).\n",
        "  * Source of the data: where the data is collected from; if data is synthetic or self-generated, explain how. If possible, please provide a link to the raw datasets.\\\n",
        "  `The dataset adopted in this project is eICU Collaborative Research Dataset (https://physionet.org/content/eicu-crd/2.0/) inlcuding the patient, admissionDx, diagnosis, treatment CSV files`\n",
        "  * Statistics: include basic descriptive statistics of the dataset like size, cross validation split, label distribution, etc.\\\n",
        "  `10 folds were generated. Each fold includes 32820 as training data, 4103 as validation data, 4103 as test data. In particular, this experiment only use fold 0 (please see prints below)`\n",
        "  * Data process: how do you munipulate the data, e.g., change the class labels, split the dataset to train/valid/test, refining the dataset.\\\n",
        "  `GCT training requires an extraction of prior conditional probabilites from the raw eICU dataset. Due to the complicated preprocessing steps, we directly loaded the fold-0 processed data, performed using a code provided by the authors (please see *proc_eicu_python.ipynb* in our github repo). After preprocessing for each instance (each single visit), the features include diagonosis codes, procedure codes, and prior indices and values. The lable is readmission. (please see prints below)`\n",
        "  * Illustration: printing results, plotting figures for illustration.\\\n",
        "  `Please see more details in the prints below.`\n",
        "  * You can upload your raw dataset to Google Drive and mount this Colab to the same directory. If your raw dataset is too large, you can upload the processed dataset and have a code to load the processed dataset.\\\n",
        "  `Due to the complicated preprocessing steps, we directly upload the processed dataset. Data processing was performed in *proc_eicu_python.ipynb*`"
      ],
      "metadata": {
        "id": "2NbPHUTMbkD3"
      }
    },
    {
      "cell_type": "markdown",
      "source": [
        "Load processed data, and define training and validation generators for GCT model training"
      ],
      "metadata": {
        "id": "rnUPVME4d9tP"
      }
    },
    {
      "cell_type": "code",
      "source": [
        "data_dir = os.path.join(PROJ_DIR, 'eicu_samples/proc_data/fold_0')\n",
        "train_data_path = os.path.join(data_dir, 'train.tfrecord')\n",
        "valid_data_path = os.path.join(data_dir, 'validation.tfrecord')\n",
        "test_data_path = os.path.join(data_dir, 'test.tfrecord')\n",
        "\n",
        "batch_size = 32\n",
        "seqex_reader = SequenceExampleParser(batch_size=batch_size)\n",
        "\n",
        "label_key='label.readmission'\n",
        "train_generator = seqex_reader(train_data_path, label_key, True)\n",
        "valid_generator = seqex_reader(valid_data_path, label_key, True)  # False break training !\n",
        "\n",
        "train_generator_iter = iter(train_generator)\n",
        "valid_generator_iter = iter(valid_generator)"
      ],
      "metadata": {
        "id": "_LrqrVHRAwb3"
      },
      "execution_count": 3,
      "outputs": []
    },
    {
      "cell_type": "markdown",
      "source": [
        "List training and validation examples and number of batches (batch size = 32). Note the size of test data is exactly same as the validation data."
      ],
      "metadata": {
        "id": "cHWycfu1eM_k"
      }
    },
    {
      "cell_type": "code",
      "source": [
        "def count_examples_in_tfrecord(tfrecord_path):\n",
        "    count = 0\n",
        "    for record in tf.data.TFRecordDataset(tfrecord_path):\n",
        "        count += 1\n",
        "    return count\n",
        "\n",
        "total_train_examples = count_examples_in_tfrecord(train_data_path)\n",
        "print(f\"Total training examples: {total_train_examples}\")\n",
        "total_train_batches = total_train_examples / batch_size\n",
        "print(f\"Total training batches: {total_train_batches}\")\n",
        "\n",
        "total_valid_examples = count_examples_in_tfrecord(valid_data_path)\n",
        "print(f\"Total validation examples: {total_valid_examples}\")\n",
        "total_valid_batches = total_valid_examples / batch_size\n",
        "print(f\"Total validation batches: {total_valid_batches}\")"
      ],
      "metadata": {
        "colab": {
          "base_uri": "https://localhost:8080/"
        },
        "id": "bg3vJIXoZSBi",
        "outputId": "46b34ca6-f7c8-4fa5-e929-7726df325af7"
      },
      "execution_count": 4,
      "outputs": [
        {
          "output_type": "stream",
          "name": "stdout",
          "text": [
            "Total training examples: 32820\n",
            "Total training batches: 1025.625\n",
            "Total validation examples: 4103\n",
            "Total validation batches: 128.21875\n"
          ]
        }
      ]
    },
    {
      "cell_type": "markdown",
      "source": [
        "Show the structure of each sample, including the features and labels."
      ],
      "metadata": {
        "id": "apli0OrCelYq"
      }
    },
    {
      "cell_type": "code",
      "source": [
        "sample = next(train_generator_iter)\n",
        "# print(len(sample))\n",
        "\n",
        "features = sample[0]\n",
        "labels = sample[1]\n",
        "\n",
        "print('features', features.keys())\n",
        "print('labels', labels.numpy())\n",
        "\n",
        "for key in features.keys():\n",
        "  print(\"Input data shape:\", key, features[key].shape)"
      ],
      "metadata": {
        "colab": {
          "base_uri": "https://localhost:8080/"
        },
        "id": "DQL_GzFzJZxr",
        "outputId": "c1277d8a-9f65-4577-dae5-3be057076783"
      },
      "execution_count": 5,
      "outputs": [
        {
          "output_type": "stream",
          "name": "stdout",
          "text": [
            "features dict_keys(['dx_ints', 'prior_indices', 'prior_values', 'proc_ints'])\n",
            "labels [0. 0. 0. 1. 0. 0. 0. 0. 0. 0. 0. 0. 0. 0. 0. 0. 0. 0. 0. 0. 0. 0. 0. 0.\n",
            " 0. 0. 0. 0. 0. 0. 0. 1.]\n",
            "Input data shape: dx_ints (32, 1, 14)\n",
            "Input data shape: prior_indices (32, 1, 1248)\n",
            "Input data shape: prior_values (32, 1, 624)\n",
            "Input data shape: proc_ints (32, 1, 26)\n"
          ]
        }
      ]
    },
    {
      "cell_type": "code",
      "source": [
        "# features['dx_ints']\n",
        "# features['prior_indices']\n",
        "# features['prior_values']\n",
        "# features['proc_ints']"
      ],
      "metadata": {
        "id": "Qj8RsIyWN2Go"
      },
      "execution_count": 6,
      "outputs": []
    },
    {
      "cell_type": "markdown",
      "source": [
        "##   Model\n",
        "The model includes the model definitation which usually is a class, model training, and other necessary parts.\n",
        "  * Model architecture: layer number/size/type, activation function, etc\\\n",
        "  `We created a GCT consisting of three layers of multi-head convolutions. Based on the GCT, we further created an EHRTransformer to predict the readmission according to the diagnosis and treatments in a single visit. Note that the orignal codes provided by the authors were written using Tensorflow 1. Now, the model and training codes have been revised or rewitten for Tensorflow 2.`\n",
        "  <img src=\"https://drive.google.com/uc?id=1tI-Ldh4rT8iAsIZcg34wi9EmBU48x307\" width=\"500\" height=\"350\" alt=\"Model Architecture\">\n",
        "\n",
        "  * Training objectives: loss function, optimizer, weight of each loss term, etc\\\n",
        "  `Except a BCE loss with respect to the readmission labels, we further consider a regularization term for the training of the GCT. As shown in Eq. (4) above, we replace the attention mechanism in the first GCT block with the conditional probabilities P. The following blocks use the masked self-attention mechanism. However, we do not want GCT to drastically deviate from the informative P, but rather gradually improve upon P. Therefore, based on the fact that attention is itself a probability distribution, we sequentially penalize attention of j-th block if it deviates too much from the attention of (j – 1)-th block, using KL divergence. As shown by Eq. (4), the regularization terms are summed to the prediction loss term (e.g. negative log-likelihood), and the trade-off is controlled by the coefficient λ.`\n",
        "  * Others: whether the model is pretrained, Monte Carlo simulation for uncertainty analysis, etc\\\n",
        "  `No pretraining was performed in this project.`\n",
        "  * The code of model should have classes of the model, functions of model training, model validation, etc.\\\n",
        "  `A new class of EHRTransformer including the GCT provided by the authors was re-written, as the original codes were used in Tensorflow 1.`\n",
        "  * If your model training is done outside of this notebook, please upload the trained model here and develop a function to load and test it.\\\n",
        "  `The trained models have been saved, and they will be loaded in this demo.`"
      ],
      "metadata": {
        "id": "3muyDPFPbozY"
      }
    },
    {
      "cell_type": "code",
      "source": [
        "class GraphConvolutionalTransformer(tf.keras.layers.Layer):\n",
        "  \"\"\"Graph Convolutional Transformer class.\n",
        "\n",
        "  This is an implementation of Graph Convolutional Transformer. With a proper\n",
        "  set of options, it can be used as a vanilla Transformer.\n",
        "  \"\"\"\n",
        "\n",
        "  def __init__(self,\n",
        "               embedding_size=128,\n",
        "               num_transformer_stack=3,\n",
        "               num_feedforward=2,\n",
        "               num_attention_heads=1,\n",
        "               ffn_dropout=0.1,\n",
        "               attention_normalizer='softmax',\n",
        "               multihead_attention_aggregation='concat',\n",
        "               directed_attention=False,\n",
        "               use_inf_mask=True,\n",
        "               use_prior=True,\n",
        "               **kwargs):\n",
        "    \"\"\"Init function.\n",
        "\n",
        "    Args:\n",
        "      embedding_size: The size of the dimension for hidden layers.\n",
        "      num_transformer_stack: The number of Transformer blocks.\n",
        "      num_feedforward: The number of layers in the feedforward part of\n",
        "        Transformer.\n",
        "      num_attention_heads: The number of attention heads.\n",
        "      ffn_dropout: Dropout rate used inside the feedforward part.\n",
        "      attention_normalizer: Use either 'softmax' or 'sigmoid' to normalize the\n",
        "        attention values.\n",
        "      multihead_attention_aggregation: Use either 'concat' or 'sum' to handle\n",
        "        the outputs from multiple attention heads.\n",
        "      directed_attention: Decide whether you want to use the unidirectional\n",
        "        attention, where information accumulates inside the dummy visit node.\n",
        "      use_inf_mask: Decide whether you want to use the guide matrix. Currently\n",
        "        unused.\n",
        "      use_prior: Decide whether you want to use the conditional probablility\n",
        "        information. Currently unused.\n",
        "      **kwargs: Other arguments to tf.keras.layers.Layer init.\n",
        "    \"\"\"\n",
        "\n",
        "    super(GraphConvolutionalTransformer, self).__init__(**kwargs)\n",
        "    self._hidden_size = embedding_size\n",
        "    self._num_stack = num_transformer_stack\n",
        "    self._num_feedforward = num_feedforward\n",
        "    self._num_heads = num_attention_heads\n",
        "    self._ffn_dropout = ffn_dropout\n",
        "    self._attention_normalizer = attention_normalizer\n",
        "    self._multihead_aggregation = multihead_attention_aggregation\n",
        "    self._directed_attention = directed_attention\n",
        "    self._use_inf_mask = use_inf_mask\n",
        "    self._use_prior = use_prior\n",
        "\n",
        "    self._layers = {}\n",
        "    self._layers['Q'] = []\n",
        "    self._layers['K'] = []\n",
        "    self._layers['V'] = []\n",
        "    self._layers['ffn'] = []\n",
        "    self._layers['head_agg'] = []\n",
        "\n",
        "    for i in range(self._num_stack):\n",
        "      self._layers['Q'].append(\n",
        "          tf.keras.layers.Dense(\n",
        "              self._hidden_size * self._num_heads, use_bias=False))\n",
        "      self._layers['K'].append(\n",
        "          tf.keras.layers.Dense(\n",
        "              self._hidden_size * self._num_heads, use_bias=False))\n",
        "      self._layers['V'].append(\n",
        "          tf.keras.layers.Dense(\n",
        "              self._hidden_size * self._num_heads, use_bias=False))\n",
        "\n",
        "      if self._multihead_aggregation == 'concat':\n",
        "        self._layers['head_agg'].append(\n",
        "            tf.keras.layers.Dense(self._hidden_size, use_bias=False))\n",
        "\n",
        "      self._layers['ffn'].append([])\n",
        "      # Don't need relu for the last feedforward.\n",
        "      for _ in range(self._num_feedforward - 1):\n",
        "        self._layers['ffn'][i].append(\n",
        "            tf.keras.layers.Dense(self._hidden_size, activation='relu'))\n",
        "      self._layers['ffn'][i].append(tf.keras.layers.Dense(self._hidden_size))\n",
        "\n",
        "  def feedforward(self, features, stack_index, training=None):\n",
        "    \"\"\"Feedforward component of Transformer.\n",
        "\n",
        "    Args:\n",
        "      features: 3D float Tensor of size (batch_size, num_features,\n",
        "        embedding_size). This is the input embedding to GCT.\n",
        "      stack_index: An integer to indicate which Transformer block we are in.\n",
        "      training: Whether to run in training or eval mode.\n",
        "\n",
        "    Returns:\n",
        "      Latent representations derived from this feedforward network.\n",
        "    \"\"\"\n",
        "    for i in range(self._num_feedforward):\n",
        "      features = self._layers['ffn'][stack_index][i](features)\n",
        "      if training:\n",
        "        features = tf.nn.dropout(features, rate=self._ffn_dropout)\n",
        "\n",
        "    return features\n",
        "\n",
        "  def qk_op(self,\n",
        "            features,\n",
        "            stack_index,\n",
        "            batch_size,\n",
        "            num_codes,\n",
        "            attention_mask,\n",
        "            inf_mask=None,\n",
        "            directed_mask=None):\n",
        "    \"\"\"Attention generation part of Transformer.\n",
        "\n",
        "    Args:\n",
        "      features: 3D float Tensor of size (batch_size, num_features,\n",
        "        embedding_size). This is the input embedding to GCT.\n",
        "      stack_index: An integer to indicate which Transformer block we are in.\n",
        "      batch_size: The size of the mini batch.\n",
        "      num_codes: The number of features (i.e. codes) given as input.\n",
        "      attention_mask: A Tensor for suppressing the attention on the padded\n",
        "        tokens.\n",
        "      inf_mask: The guide matrix to suppress the attention values to zeros for\n",
        "        certain parts of the attention matrix (e.g. diagnosis codes cannot\n",
        "        attend to other diagnosis codes).\n",
        "      directed_mask: If the user wants to only use the upper-triangle of the\n",
        "        attention for uni-directional attention flow, we use this strictly lower\n",
        "        triangular matrix filled with infinity.\n",
        "\n",
        "    Returns:\n",
        "      The attention distribution derived from the QK operation.\n",
        "    \"\"\"\n",
        "\n",
        "    q = self._layers['Q'][stack_index](features)\n",
        "    q = tf.reshape(q,\n",
        "                   [batch_size, num_codes, self._hidden_size, self._num_heads])\n",
        "\n",
        "    k = self._layers['K'][stack_index](features)\n",
        "    k = tf.reshape(k,\n",
        "                   [batch_size, num_codes, self._hidden_size, self._num_heads])\n",
        "\n",
        "    # Need to transpose q and k to (2, 0, 1)\n",
        "    q = tf.transpose(q, perm=[0, 3, 1, 2])\n",
        "    k = tf.transpose(k, perm=[0, 3, 2, 1])\n",
        "    pre_softmax = tf.matmul(q, k) / tf.sqrt(\n",
        "        tf.cast(self._hidden_size, tf.float32))\n",
        "\n",
        "    pre_softmax -= attention_mask[:, None, None, :]\n",
        "\n",
        "    if inf_mask is not None:\n",
        "      pre_softmax -= inf_mask[:, None, :, :]\n",
        "\n",
        "    if directed_mask is not None:\n",
        "      pre_softmax -= directed_mask\n",
        "\n",
        "    if self._attention_normalizer == 'softmax':\n",
        "      attention = tf.nn.softmax(pre_softmax, axis=3)\n",
        "    else:\n",
        "      attention = tf.nn.sigmoid(pre_softmax)\n",
        "    return attention\n",
        "\n",
        "  def call(self, features, masks, guide=None, prior_guide=None, training=None):\n",
        "    \"\"\"This function transforms the input embeddings.\n",
        "\n",
        "    This function converts the SparseTensor of integers to a dense Tensor of\n",
        "    tf.float32.\n",
        "\n",
        "    Args:\n",
        "      features: 3D float Tensor of size (batch_size, num_features,\n",
        "        embedding_size). This is the input embedding to GCT.\n",
        "      masks: 3D float Tensor of size (batch_size, num_features, 1). This holds\n",
        "        binary values to indicate which parts are padded and which are not.\n",
        "      guide: 3D float Tensor of size (batch_size, num_features, num_features).\n",
        "        This is the guide matrix.\n",
        "      prior_guide: 3D float Tensor of size (batch_size, num_features,\n",
        "        num_features). This is the conditional probability matrix.\n",
        "      training: Whether to run in training or eval mode.\n",
        "\n",
        "    Returns:\n",
        "      features: The final layer of GCT.\n",
        "      attentions: List of attention values from all layers of GCT. This will be\n",
        "        used later to regularize the self-attention process.\n",
        "    \"\"\"\n",
        "\n",
        "    batch_size = tf.shape(features)[0]\n",
        "    num_codes = tf.shape(features)[1]\n",
        "\n",
        "    # Use the given masks to create a negative infinity Tensor to suppress the\n",
        "    # attention weights of the padded tokens. Note that the given masks has\n",
        "    # the shape (batch_size, num_codes, 1), so we remove the last dimension\n",
        "    # during the process.\n",
        "    mask_idx = tf.cast(tf.where(tf.equal(masks[:, :, 0], 0.)), tf.int32)\n",
        "    mask_matrix = tf.fill([tf.shape(mask_idx)[0]], tf.float32.max)\n",
        "    attention_mask = tf.scatter_nd(\n",
        "        indices=mask_idx, updates=mask_matrix, shape=tf.shape(masks[:, :, 0]))\n",
        "\n",
        "    inf_mask = None\n",
        "    if self._use_inf_mask:\n",
        "      guide_idx = tf.cast(tf.where(tf.equal(guide, 0.)), tf.int32)\n",
        "      inf_matrix = tf.fill([tf.shape(guide_idx)[0]], tf.float32.max)\n",
        "      inf_mask = tf.scatter_nd(\n",
        "          indices=guide_idx, updates=inf_matrix, shape=tf.shape(guide))\n",
        "\n",
        "    directed_mask = None\n",
        "    if self._directed_attention:\n",
        "      inf_matrix = tf.fill([num_codes, num_codes], tf.float32.max)\n",
        "      inf_matrix = tf.matrix_set_diag(inf_matrix, tf.zeros(num_codes))\n",
        "      directed_mask = tf.matrix_band_part(inf_matrix, -1, 0)[None, None, :, :]\n",
        "\n",
        "    attention = None\n",
        "    attentions = []\n",
        "    for i in range(self._num_stack):\n",
        "      features = masks * features\n",
        "\n",
        "      if self._use_prior and i == 0:\n",
        "        attention = tf.tile(prior_guide[:, None, :, :],\n",
        "                            [1, self._num_heads, 1, 1])\n",
        "      else:\n",
        "        attention = self.qk_op(features, i, batch_size, num_codes,\n",
        "                               attention_mask, inf_mask, directed_mask)\n",
        "\n",
        "      attentions.append(attention)\n",
        "\n",
        "      v = self._layers['V'][i](features)\n",
        "      v = tf.reshape(\n",
        "          v, [batch_size, num_codes, self._hidden_size, self._num_heads])\n",
        "      v = tf.transpose(v, perm=[0, 3, 1, 2])\n",
        "      # post_attention is (batch, num_heads, num_codes, hidden_size)\n",
        "      post_attention = tf.matmul(attention, v)\n",
        "\n",
        "      if self._num_heads == 1:\n",
        "        post_attention = tf.squeeze(post_attention, axis=1)\n",
        "      elif self._multihead_aggregation == 'concat':\n",
        "        # post_attention is (batch, num_codes, num_heads, hidden_size)\n",
        "        post_attention = tf.transpose(post_attention, perm=[0, 2, 1, 3])\n",
        "        # post_attention is (batch, num_codes, num_heads*hidden_size)\n",
        "        post_attention = tf.reshape(post_attention, [batch_size, num_codes, -1])\n",
        "        # post attention is (batch, num_codes, hidden_size)\n",
        "        post_attention = self._layers['head_agg'][i](post_attention)\n",
        "      else:\n",
        "        post_attention = tf.reduce_sum(post_attention, axis=1)\n",
        "\n",
        "      # Residual connection + layer normalization\n",
        "      post_attention += features\n",
        "      #post_attention = tf.contrib.layers.layer_norm(\n",
        "      #    post_attention, begin_norm_axis=2)\n",
        "      post_attention = tf.keras.layers.LayerNormalization(axis=2)(post_attention)\n",
        "\n",
        "      # Feedforward component + residual connection + layer normalization\n",
        "      post_ffn = self.feedforward(post_attention, i, training)\n",
        "      post_ffn += post_attention\n",
        "      #post_ffn = tf.contrib.layers.layer_norm(post_ffn, begin_norm_axis=2)\n",
        "      post_ffn = tf.keras.layers.LayerNormalization(axis=2)(post_ffn)\n",
        "\n",
        "      features = post_ffn\n",
        "\n",
        "    return features * masks, attentions"
      ],
      "metadata": {
        "id": "o_RNCqYAqzEc"
      },
      "execution_count": 7,
      "outputs": []
    },
    {
      "cell_type": "markdown",
      "source": [
        "A class of EHRTransformer including a three-layer GCT used to predict readmission in each single visit was re-defined, as the original applications were based on Tensorflow 1."
      ],
      "metadata": {
        "id": "0fM_ucDwkogs"
      }
    },
    {
      "cell_type": "code",
      "source": [
        "class EHRTransformer(tf.keras.Model):\n",
        "    \"\"\"Transformer-based EHR encounter modeling algorithm using Keras.\"\"\"\n",
        "\n",
        "    def __init__(self,\n",
        "                gct_params,\n",
        "                feature_keys=['dx_ints', 'proc_ints'],\n",
        "                label_key='label.readmission',\n",
        "                vocab_sizes={'dx_ints':3249, 'proc_ints':2210},\n",
        "                feature_set='vdp',\n",
        "                max_num_codes=50,\n",
        "                prior_scalar=0.5,\n",
        "                reg_coef=0.1,\n",
        "                num_classes=1,\n",
        "                # learning_rate=1e-3,\n",
        "                # batch_size=32\n",
        "                 ):\n",
        "\n",
        "        super(EHRTransformer, self).__init__()\n",
        "        self._feature_keys = feature_keys\n",
        "        self._label_key = label_key\n",
        "        self._vocab_sizes = vocab_sizes\n",
        "        self._feature_set = feature_set\n",
        "        self._max_num_codes = max_num_codes\n",
        "        self._prior_scalar = prior_scalar\n",
        "        self._reg_coef = reg_coef\n",
        "        self._num_classes = num_classes\n",
        "        # self._learning_rate = learning_rate\n",
        "        # self._batch_size = batch_size\n",
        "\n",
        "        self._gct_params = gct_params\n",
        "        self._embedding_size = gct_params['embedding_size']\n",
        "        self._num_transformer_stack = gct_params['num_transformer_stack']\n",
        "        self._use_inf_mask = gct_params['use_inf_mask']\n",
        "        self._use_prior = gct_params['use_prior']\n",
        "\n",
        "        # Embedding layers for each feature key\n",
        "        self.feature_embedder = FeatureEmbedder(self._vocab_sizes, self._feature_keys, self._embedding_size)\n",
        "\n",
        "        # The Graph Convolutional Transformer as a Keras layer\n",
        "        self.gct = GraphConvolutionalTransformer(**gct_params)\n",
        "\n",
        "        # Output layer\n",
        "        self.output_layer = tf.keras.layers.Dense(self._num_classes, activation=None)\n",
        "\n",
        "    def call(self, features, training=False):\n",
        "      # 1. Embedding lookup\n",
        "      embedding_dict, mask_dict = self.feature_embedder.lookup(features, self._max_num_codes)\n",
        "\n",
        "      # 2. Concatenate embeddings and masks into a single tensor.\n",
        "      keys = ['visit'] + self._feature_keys\n",
        "      embeddings = tf.concat([embedding_dict[key] for key in keys], axis=1)\n",
        "      masks = tf.concat([mask_dict[key] for key in keys], axis=1)\n",
        "\n",
        "      # 2-1. Create the guide matrix and the prior matrix.\n",
        "      if self._feature_set == 'vdpl':\n",
        "        guide, prior_guide = create_matrix_vdpl(features, masks, self._use_prior,\n",
        "                                                self._use_inf_mask,\n",
        "                                                self._max_num_codes,\n",
        "                                                self._prior_scalar)\n",
        "      elif self._feature_set == 'vdp':\n",
        "        guide, prior_guide = create_matrix_vdp(features, masks, self._use_prior,\n",
        "                                              self._use_inf_mask,\n",
        "                                              self._max_num_codes,\n",
        "                                              self._prior_scalar)\n",
        "      else:\n",
        "        sys.exit(0)\n",
        "\n",
        "      # 3. Process embeddings with GCT\n",
        "      hidden, attentions = self.gct(\n",
        "          embeddings, masks[:, :, None], guide, prior_guide, training)\n",
        "\n",
        "      # 4. Generate logits\n",
        "      # print(hidden.shape)\n",
        "      pre_logit = hidden[:, 0, :]\n",
        "      # print(pre_logit.shape)\n",
        "      pre_logit = tf.reshape(pre_logit, [-1, self._embedding_size])\n",
        "      # print(pre_logit.shape)\n",
        "      # logits = tf.layers.dense(pre_logit, self._num_classes, activation=None)\n",
        "      logits = self.output_layer(pre_logit)\n",
        "      # print(logits.shape)\n",
        "      logits = tf.squeeze(logits)\n",
        "      probs = tf.nn.sigmoid(logits)\n",
        "\n",
        "      predictions = {\n",
        "          'probabilities': probs,\n",
        "          'logits': logits,\n",
        "          'attentions': attentions\n",
        "      }\n",
        "      return predictions\n",
        "\n",
        "    def model(self):\n",
        "        \"\"\"Creates a functional API model for plotting and further analysis.\"\"\"\n",
        "        # inputs = {key: tf.keras.Input(shape=(None,), dtype=tf.int32, name=key) for key in self.feature_keys}\n",
        "\n",
        "        inputs = {\n",
        "            'dx_ints': tf.keras.Input([None, None, None], dtype=tf.int64),\n",
        "            'proc_ints': tf.keras.Input([None, None, None], dtype=tf.int64),\n",
        "            'prior_indices': tf.keras.Input([None, None, None], dtype=tf.int64),\n",
        "            'prior_values': tf.keras.Input([None, None, None], dtype=tf.float32)\n",
        "        }\n",
        "        outputs = self.call(inputs)\n",
        "        return tf.keras.Model(inputs=inputs, outputs=outputs)\n",
        "\n",
        "    def get_loss(self, labels, logits, attentions):\n",
        "      \"\"\"Creates a loss tensor.\n",
        "\n",
        "      Args:\n",
        "        logits: Logits for prediction. This is obtained by calling get_prediction.\n",
        "        labels: Labels for prediction.\n",
        "        attentions: List of attention values from all layers of GCT. This is\n",
        "          obtained by calling get_prediction.\n",
        "\n",
        "      Returns:\n",
        "        Loss tensor. If we use the conditional probability matrix, then GCT's\n",
        "        attention mechanism will be regularized using KL divergence.\n",
        "      \"\"\"\n",
        "      loss = tf.nn.sigmoid_cross_entropy_with_logits(labels=labels, logits=logits)\n",
        "      loss = tf.reduce_mean(loss)\n",
        "\n",
        "      if self._use_prior:\n",
        "        kl_terms = []\n",
        "        attention_tensor = tf.convert_to_tensor(attentions)\n",
        "        # print(attention_tensor.shape)\n",
        "        for i in range(1, self._num_transformer_stack):\n",
        "          log_p = tf.math.log(attention_tensor[i - 1] + 1e-12)\n",
        "          log_q = tf.math.log(attention_tensor[i] + 1e-12)\n",
        "          kl_term = attention_tensor[i - 1] * (log_p - log_q)\n",
        "          # print(kl_term.shape)\n",
        "          kl_term = tf.reduce_sum(kl_term, axis=-1)\n",
        "          # print(kl_term.shape)\n",
        "          kl_term = tf.reduce_mean(kl_term)\n",
        "          kl_terms.append(kl_term)\n",
        "\n",
        "        reg_term = tf.reduce_mean(kl_terms)\n",
        "        loss += self._reg_coef * reg_term\n",
        "\n",
        "      return loss"
      ],
      "metadata": {
        "id": "fn7rlKmA6rzD"
      },
      "execution_count": 8,
      "outputs": []
    },
    {
      "cell_type": "markdown",
      "source": [
        "Instantiate model and load trained weights"
      ],
      "metadata": {
        "id": "xsEctFoHlPH_"
      }
    },
    {
      "cell_type": "code",
      "source": [
        "out_dir = os.path.join(PROJ_DIR, 'tensorflow/saved_models')\n",
        "if not os.path.exists(out_dir):\n",
        "    os.makedirs(out_dir)\n",
        "\n",
        "gct_params = {\n",
        "    \"embedding_size\": 128,\n",
        "    \"num_transformer_stack\": 3,\n",
        "    \"num_feedforward\": 2,\n",
        "    \"num_attention_heads\": 1,\n",
        "    \"ffn_dropout\": 0.08,\n",
        "    \"attention_normalizer\": \"softmax\",\n",
        "    \"multihead_attention_aggregation\": \"concat\",\n",
        "    \"directed_attention\": False,\n",
        "    \"use_inf_mask\": True,\n",
        "    \"use_prior\": True,\n",
        "}\n",
        "\n",
        "model = EHRTransformer(gct_params=gct_params,\n",
        "                      label_key='label.readmission',\n",
        "                      reg_coef=0.1,\n",
        "                      # learning_rate=0.00022,\n",
        "                      # batch_size=32\n",
        "                       )\n",
        "\n",
        "model_save_path = os.path.join(out_dir, 'model.h5')\n",
        "\n",
        "## Call the model first to bluid graph\n",
        "predictions = model(features)\n",
        "print(np.stack((labels, predictions['logits'], predictions['probabilities']), axis=-1).T)\n",
        "print([attn.shape for attn in predictions['attentions']])\n",
        "loss = model.get_loss(labels, predictions['logits'], predictions['attentions'])\n",
        "print(loss)\n",
        "\n",
        "## Load trained model\n",
        "if os.path.exists(model_save_path):\n",
        "    model.load_weights(model_save_path)\n",
        "    model_train_flag = False\n",
        "    print('Found and loaded weights!')\n",
        "else:\n",
        "    model_train_flag = True\n",
        "    print('No weights found!')\n",
        "\n",
        "## To plot the model\n",
        "# model.summary()\n",
        "# tf.keras.utils.plot_model(model, show_shapes=True)"
      ],
      "metadata": {
        "colab": {
          "base_uri": "https://localhost:8080/"
        },
        "id": "VrgvqXvY9Fsl",
        "outputId": "cc2b52d0-9988-4465-e5ec-cbaf096cf1c1"
      },
      "execution_count": 9,
      "outputs": [
        {
          "output_type": "stream",
          "name": "stdout",
          "text": [
            "[[ 0.          0.          0.          1.          0.          0.\n",
            "   0.          0.          0.          0.          0.          0.\n",
            "   0.          0.          0.          0.          0.          0.\n",
            "   0.          0.          0.          0.          0.          0.\n",
            "   0.          0.          0.          0.          0.          0.\n",
            "   0.          1.        ]\n",
            " [-0.7172676   0.28824973 -0.4996065  -0.12286636 -0.2905866  -0.6532843\n",
            "  -0.29684147 -0.19703013 -1.2684357  -0.19129539  0.16057035 -0.43825954\n",
            "  -0.8726442  -0.27823374 -0.6492905  -0.10703424 -0.6213833  -0.39151317\n",
            "  -1.0008669  -0.11856222 -0.73725885 -0.80057967 -0.4819585  -0.5502523\n",
            "  -0.63324624 -1.0149504   0.03198665 -0.9135724  -0.46400687 -0.79224586\n",
            "  -0.156053   -0.5874741 ]\n",
            " [ 0.32799497  0.5715676   0.37763315  0.469322    0.42786026  0.3422498\n",
            "   0.4263298   0.4509012   0.21952517  0.45232144  0.5400565   0.39215577\n",
            "   0.29470438  0.43088683  0.34314942  0.47326696  0.3494669   0.4033531\n",
            "   0.26877102  0.47039413  0.32360384  0.30990154  0.38178974  0.3658059\n",
            "   0.34677482  0.26601216  0.507996    0.28626937  0.3860357   0.31168664\n",
            "   0.46106574  0.35721463]]\n",
            "[TensorShape([32, 1, 101, 101]), TensorShape([32, 1, 101, 101]), TensorShape([32, 1, 101, 101])]\n",
            "tf.Tensor(0.6457762, shape=(), dtype=float32)\n",
            "Found and loaded weights!\n"
          ]
        }
      ]
    },
    {
      "cell_type": "markdown",
      "source": [
        "Define customized training loop for Tensorflow 2. Particularly, the model was trained for 10 epochs for fold 0."
      ],
      "metadata": {
        "id": "XjA8Vie3lYsH"
      }
    },
    {
      "cell_type": "code",
      "source": [
        "def run_train(model, optimizer, train_generator_iter, valid_generator_iter, model_save_path):\n",
        "    # Initialize metrics\n",
        "    train_loss = tf.keras.metrics.Mean(name='train_loss')\n",
        "    valid_loss = tf.keras.metrics.Mean(name='valid_loss')\n",
        "    train_auc_pr = tf.keras.metrics.AUC(name='train_auc_pr', curve='PR')\n",
        "    valid_auc_pr = tf.keras.metrics.AUC(name='valid_auc_pr', curve='PR')\n",
        "    train_auc_roc = tf.keras.metrics.AUC(name='train_auc_pr', curve='ROC')\n",
        "    valid_auc_roc = tf.keras.metrics.AUC(name='valid_auc_pr', curve='ROC')\n",
        "\n",
        "    # Prepare the training loop\n",
        "    epochs = 10\n",
        "    steps_per_epoch = 1000  # adjust this based on your generator\n",
        "    validation_steps = 100  # adjust this based on your generator\n",
        "\n",
        "    # Training loop\n",
        "    history = {'train_loss': [], 'valid_loss': [],\n",
        "              'train_auc_pr': [], 'valid_auc_pr': [],\n",
        "              'train_auc_roc': [], 'valid_auc_roc': []}\n",
        "\n",
        "    for epoch in range(epochs):\n",
        "        print(f'\\nStart of Epoch {epoch+1}')\n",
        "\n",
        "        # Reset the metrics at the start of each epoch\n",
        "        train_loss.reset_states()\n",
        "        valid_loss.reset_states()\n",
        "        train_auc_pr.reset_states()\n",
        "        valid_auc_pr.reset_states()\n",
        "        train_auc_roc.reset_states()\n",
        "        valid_auc_roc.reset_states()\n",
        "\n",
        "        # Iterate over the batches of the dataset.\n",
        "        for step in range(steps_per_epoch):\n",
        "            x_batch_train, y_batch_train = next(train_generator_iter)\n",
        "            with tf.GradientTape() as tape:\n",
        "                y_pred_train = model(x_batch_train, training=True)  # Forward pass\n",
        "                loss = model.get_loss(y_batch_train, y_pred_train['logits'], y_pred_train['attentions'])\n",
        "\n",
        "            gradients = tape.gradient(loss, model.trainable_weights)\n",
        "            optimizer.apply_gradients(zip(gradients, model.trainable_weights))\n",
        "\n",
        "            # Update training metrics\n",
        "            train_loss.update_state(loss)\n",
        "            train_auc_pr.update_state(y_batch_train, y_pred_train['probabilities'])\n",
        "            train_auc_roc.update_state(y_batch_train, y_pred_train['probabilities'])\n",
        "\n",
        "        # Display metrics at the end of each epoch.\n",
        "        train_loss_result = train_loss.result()\n",
        "        train_auc_pr_result = train_auc_pr.result()\n",
        "        train_auc_roc_result = train_auc_roc.result()\n",
        "\n",
        "        print(f'Training loss: {train_loss_result} - Train AUC-PR: {train_auc_pr_result} - Train AUC-ROC: {train_auc_roc_result}')\n",
        "\n",
        "        # Validation loop\n",
        "        for step in range(validation_steps):\n",
        "            x_batch_val, y_batch_val = next(valid_generator_iter)\n",
        "            y_pred_val = model(x_batch_val, training=False)\n",
        "            v_loss = model.get_loss(y_batch_val, y_pred_val['logits'], y_pred_val['attentions'])\n",
        "\n",
        "            # Update validation metrics\n",
        "            valid_loss.update_state(v_loss)\n",
        "            valid_auc_pr.update_state(y_batch_val, y_pred_val['probabilities'])\n",
        "            valid_auc_roc.update_state(y_batch_val, y_pred_val['probabilities'])\n",
        "\n",
        "        valid_loss_result = valid_loss.result()\n",
        "        valid_auc_pr_result = valid_auc_pr.result()\n",
        "        valid_auc_roc_result = valid_auc_roc.result()\n",
        "\n",
        "        print(f'Validation loss: {valid_loss_result} - Valid AUC-PR: {valid_auc_pr_result} - Valid AUC-ROC: {valid_auc_roc_result}')\n",
        "\n",
        "        # Append history\n",
        "        history['train_loss'].append(train_loss_result.numpy())\n",
        "        history['valid_loss'].append(valid_loss_result.numpy())\n",
        "        history['train_auc_pr'].append(train_auc_pr_result.numpy())\n",
        "        history['valid_auc_pr'].append(valid_auc_pr_result.numpy())\n",
        "        history['train_auc_roc'].append(train_auc_roc_result.numpy())\n",
        "        history['valid_auc_roc'].append(valid_auc_roc_result.numpy())\n",
        "\n",
        "        # Save the model\n",
        "        model.save_weights(model_save_path)\n",
        "\n",
        "    return history"
      ],
      "metadata": {
        "id": "wu9AtmvFavEL"
      },
      "execution_count": 10,
      "outputs": []
    },
    {
      "cell_type": "markdown",
      "source": [
        "Plot training history including loss, AUC-PR, and AUC-ROC"
      ],
      "metadata": {
        "id": "djopDVIClgzH"
      }
    },
    {
      "cell_type": "code",
      "source": [
        "def plot_history(history):\n",
        "    plt.figure(figsize=(16, 3))\n",
        "    plt.subplot(1, 3, 1)\n",
        "    plt.plot(history['train_loss'], label='Training Loss')\n",
        "    plt.plot(history['valid_loss'], label='Validation Loss')\n",
        "    plt.title('Loss Over Epochs')\n",
        "    plt.xlabel('Epoch')\n",
        "    plt.ylabel('Loss')\n",
        "    plt.legend()\n",
        "\n",
        "    plt.subplot(1, 3, 2)\n",
        "    plt.plot(history['train_auc_pr'], label='Training AUC-PR')\n",
        "    plt.plot(history['valid_auc_pr'], label='Validation AUC-PR')\n",
        "    plt.title('AUC-PR Over Epochs')\n",
        "    plt.xlabel('Epoch')\n",
        "    plt.ylabel('AUC-PR')\n",
        "    plt.legend()\n",
        "\n",
        "    plt.subplot(1, 3, 3)\n",
        "    plt.plot(history['train_auc_roc'], label='Training AUC-ROC')\n",
        "    plt.plot(history['valid_auc_roc'], label='Validation AUC-ROC')\n",
        "    plt.title('AUC-ROC Over Epochs')\n",
        "    plt.xlabel('Epoch')\n",
        "    plt.ylabel('AUC-ROC')\n",
        "    plt.legend()\n",
        "\n",
        "    plt.show()"
      ],
      "metadata": {
        "id": "BPjkvZgSDyn3"
      },
      "execution_count": 11,
      "outputs": []
    },
    {
      "cell_type": "code",
      "source": [
        "if model_train_flag:\n",
        "  optimizer = tf.keras.optimizers.Adam(\n",
        "      learning_rate=0.00022,\n",
        "      beta_1=0.9,\n",
        "      beta_2=0.999,\n",
        "      epsilon=1e-8\n",
        "  )\n",
        "\n",
        "  history = run_train(model, optimizer, train_generator_iter, valid_generator_iter, model_save_path)"
      ],
      "metadata": {
        "id": "4Y5S1AWVDLNu"
      },
      "execution_count": 12,
      "outputs": []
    },
    {
      "cell_type": "markdown",
      "source": [
        "```\n",
        "Start of Epoch 1\n",
        "Training loss: 0.5123576521873474 - Train AUC-PR: 0.4286962151527405 - Train AUC-ROC: 0.7313898801803589\n",
        "Validation loss: 0.655769944190979 - Valid AUC-PR: 0.20133599638938904 - Valid AUC-ROC: 0.5213701725006104\n",
        "\n",
        "Start of Epoch 2\n",
        "Training loss: 0.5033928155899048 - Train AUC-PR: 0.44760653376579285 - Train AUC-ROC: 0.7423446178436279\n",
        "Validation loss: 0.6576829552650452 - Valid AUC-PR: 0.2468477189540863 - Valid AUC-ROC: 0.5706444382667542\n",
        "\n",
        "Start of Epoch 3\n",
        "Training loss: 0.4995952546596527 - Train AUC-PR: 0.45952650904655457 - Train AUC-ROC: 0.7477632761001587\n",
        "Validation loss: 0.609856128692627 - Valid AUC-PR: 0.2893657088279724 - Valid AUC-ROC: 0.6159980297088623\n",
        "\n",
        "Start of Epoch 4\n",
        "Training loss: 0.4905339479446411 - Train AUC-PR: 0.47239115834236145 - Train AUC-ROC: 0.7580344080924988\n",
        "Validation loss: 0.5576832294464111 - Valid AUC-PR: 0.27166634798049927 - Valid AUC-ROC: 0.6391111612319946\n",
        "\n",
        "Start of Epoch 5\n",
        "Training loss: 0.48910704255104065 - Train AUC-PR: 0.4865301251411438 - Train AUC-ROC: 0.7631182670593262\n",
        "Validation loss: 0.5334770083427429 - Valid AUC-PR: 0.2784820795059204 - Valid AUC-ROC: 0.6690179109573364\n",
        "\n",
        "Start of Epoch 6\n",
        "Training loss: 0.48491713404655457 - Train AUC-PR: 0.49554377794265747 - Train AUC-ROC: 0.7683243155479431\n",
        "Validation loss: 0.6274268627166748 - Valid AUC-PR: 0.3593043386936188 - Valid AUC-ROC: 0.6864175200462341\n",
        "\n",
        "Start of Epoch 7\n",
        "Training loss: 0.48225486278533936 - Train AUC-PR: 0.5029845833778381 - Train AUC-ROC: 0.7726529240608215\n",
        "Validation loss: 0.5892007946968079 - Valid AUC-PR: 0.3575628399848938 - Valid AUC-ROC: 0.6947113275527954\n",
        "\n",
        "Start of Epoch 8\n",
        "Training loss: 0.47971653938293457 - Train AUC-PR: 0.5135482549667358 - Train AUC-ROC: 0.7789130806922913\n",
        "Validation loss: 0.5765193700790405 - Valid AUC-PR: 0.3151327073574066 - Valid AUC-ROC: 0.6690535545349121\n",
        "\n",
        "Start of Epoch 9\n",
        "Training loss: 0.47726982831954956 - Train AUC-PR: 0.5221516489982605 - Train AUC-ROC: 0.7844768762588501\n",
        "Validation loss: 0.5684685707092285 - Valid AUC-PR: 0.21759498119354248 - Valid AUC-ROC: 0.6398235559463501\n",
        "\n",
        "Start of Epoch 10\n",
        "Training loss: 0.4770759046077728 - Train AUC-PR: 0.5241050124168396 - Train AUC-ROC: 0.7892040610313416\n",
        "Validation loss: 0.6658788919448853 - Valid AUC-PR: 0.29958027601242065 - Valid AUC-ROC: 0.6587786674499512\n",
        "```"
      ],
      "metadata": {
        "id": "gkPEGtTgoD6r"
      }
    },
    {
      "cell_type": "code",
      "source": [
        "if model_train_flag:\n",
        "  plot_history(history)"
      ],
      "metadata": {
        "id": "jTLYTuqwTieH"
      },
      "execution_count": 13,
      "outputs": []
    },
    {
      "cell_type": "markdown",
      "source": [
        "![model-train.png](https://drive.google.com/uc?id=1O2jXhnajcsXaHYvH-wFRpCxND1KkPyf6)\n",
        "\n",
        "\n"
      ],
      "metadata": {
        "id": "Lz89dUVHyeaU"
      }
    },
    {
      "cell_type": "markdown",
      "source": [
        "# Results\n",
        "In this section, you should finish training your model training or loading your trained model. That is a great experiment! You should share the results with others with necessary metrics and figures.\n",
        "\n",
        "Please test and report results for all experiments that you run with:\n",
        "\n",
        "*   specific numbers (accuracy, AUC, RMSE, etc)\n",
        "*   figures (loss shrinkage, outputs from GAN, annotation or label of sample pictures, etc)\n"
      ],
      "metadata": {
        "id": "gX6bCcZNuxmz"
      }
    },
    {
      "cell_type": "markdown",
      "source": [
        "Load test (hold-out) data"
      ],
      "metadata": {
        "id": "gXEh6P30mYFy"
      }
    },
    {
      "cell_type": "code",
      "source": [
        "# Load all test data in a batch (batch_size=129)\n",
        "\n",
        "seqex_reader_test = SequenceExampleParser(batch_size=129)\n",
        "test_generator = seqex_reader_test(test_data_path, label_key, False)\n",
        "test_generator_iter = iter(test_generator)\n",
        "test_samples = next(test_generator_iter)\n",
        "\n",
        "test_features, test_labels = test_samples\n",
        "for key in test_features.keys():\n",
        "  print(\"Input data shape:\", key, test_features[key].shape)\n",
        "print('labels', len(test_labels.numpy()))"
      ],
      "metadata": {
        "colab": {
          "base_uri": "https://localhost:8080/"
        },
        "id": "_By_Etdw_ndc",
        "outputId": "8a0374bf-f5f6-4544-a718-a35772026a40"
      },
      "execution_count": 14,
      "outputs": [
        {
          "output_type": "stream",
          "name": "stdout",
          "text": [
            "Input data shape: dx_ints (129, 1, 24)\n",
            "Input data shape: prior_indices (129, 1, 1800)\n",
            "Input data shape: prior_values (129, 1, 900)\n",
            "Input data shape: proc_ints (129, 1, 30)\n",
            "labels 129\n"
          ]
        }
      ]
    },
    {
      "cell_type": "code",
      "source": [
        "def run_test(model, test_features, test_labels):\n",
        "  test_auc_pr = tf.keras.metrics.AUC(name='test_auc_pr', curve='PR')\n",
        "  test_auc_roc = tf.keras.metrics.AUC(name='test_auc_pr', curve='ROC')\n",
        "\n",
        "  test_auc_pr.reset_states()\n",
        "  test_auc_roc.reset_states()\n",
        "\n",
        "  test_predictions = model(test_features)\n",
        "  test_probabilities = test_predictions['probabilities']\n",
        "\n",
        "  test_auc_pr.update_state(test_labels, test_probabilities)\n",
        "  test_auc_roc.update_state(test_labels, test_probabilities)\n",
        "\n",
        "  test_auc_pr_result = test_auc_pr.result().numpy()\n",
        "  test_auc_roc_result = test_auc_roc.result().numpy()\n",
        "\n",
        "  print(\"Test AUC-PR:\", test_auc_pr_result)\n",
        "  print(\"Test AUC-ROC:\", test_auc_roc_result)\n",
        "\n",
        "  return test_predictions"
      ],
      "metadata": {
        "id": "mLlGEVTOBcEm"
      },
      "execution_count": 15,
      "outputs": []
    },
    {
      "cell_type": "code",
      "source": [
        "def plot_attentions(test_predictions, sample_idx=0):\n",
        "  plt.figure(figsize=(12, 3))  # You can adjust the size as needed\n",
        "\n",
        "  plt.subplot(1,3,1)\n",
        "  sns.heatmap((test_predictions['attentions'][0][sample_idx,0,:,:].numpy()*255).astype('int64'),\n",
        "              annot=False, fmt='d', cmap='Blues', cbar=True)\n",
        "  plt.title('Layer 1')\n",
        "\n",
        "  plt.subplot(1,3,2)\n",
        "  sns.heatmap((test_predictions['attentions'][1][sample_idx,0,:,:].numpy()*255).astype('int64'),\n",
        "              annot=False, fmt='d', cmap='Blues', cbar=True)\n",
        "  plt.title('Layer 2')\n",
        "\n",
        "  plt.subplot(1,3,3)\n",
        "  sns.heatmap((test_predictions['attentions'][2][sample_idx,0,:,:].numpy()*255).astype('int64'),\n",
        "              annot=False, fmt='d', cmap='Blues', cbar=True)\n",
        "  plt.title('Layer 3')\n",
        "\n",
        "  plt.show()"
      ],
      "metadata": {
        "id": "_DhoIUvBSShb"
      },
      "execution_count": 16,
      "outputs": []
    },
    {
      "cell_type": "markdown",
      "source": [
        "Readmission prediction accuracy"
      ],
      "metadata": {
        "id": "7qVnwp7RmbmO"
      }
    },
    {
      "cell_type": "code",
      "source": [
        "print('The accuracy of the full model:')\n",
        "test_predictions = run_test(model, test_features, test_labels)"
      ],
      "metadata": {
        "colab": {
          "base_uri": "https://localhost:8080/"
        },
        "id": "tiHhwu9gDBU3",
        "outputId": "1efeb6b6-638b-4ee7-ea9e-28b2a1d65cd5"
      },
      "execution_count": 17,
      "outputs": [
        {
          "output_type": "stream",
          "name": "stdout",
          "text": [
            "The accuracy of the full model:\n",
            "Test AUC-PR: 0.120373815\n",
            "Test AUC-ROC: 0.44298247\n"
          ]
        }
      ]
    },
    {
      "cell_type": "code",
      "source": [
        "# np.stack((test_predictions['probabilities'], test_labels), axis=-1)"
      ],
      "metadata": {
        "id": "OECTeeHcAYTs"
      },
      "execution_count": 18,
      "outputs": []
    },
    {
      "cell_type": "markdown",
      "source": [
        "Graph structure of a single visit represented by learned attentions. Note that for the three-layer GCT, we plot attentions of each layer."
      ],
      "metadata": {
        "id": "lr7LPtD7miNk"
      }
    },
    {
      "cell_type": "code",
      "source": [
        "## Extract attentions of each layer (in total, three GCT layers) of a sample\n",
        "sample_idx = np.random.randint(0, test_features['dx_ints'].shape[0])\n",
        "print(sample_idx)\n",
        "\n",
        "plot_attentions(test_predictions, sample_idx)"
      ],
      "metadata": {
        "colab": {
          "base_uri": "https://localhost:8080/",
          "height": 335
        },
        "id": "dxixxQWPUr4_",
        "outputId": "d53ce403-152a-4362-a033-9212320b47c1"
      },
      "execution_count": 19,
      "outputs": [
        {
          "output_type": "stream",
          "name": "stdout",
          "text": [
            "82\n"
          ]
        },
        {
          "output_type": "display_data",
          "data": {
            "text/plain": [
              "<Figure size 1200x300 with 6 Axes>"
            ],
            "image/png": "[encoded data removed]"
          },
          "metadata": {}
        }
      ]
    },
    {
      "cell_type": "markdown",
      "source": [
        "## Model comparison"
      ],
      "metadata": {
        "id": "8EAWAy_LwHlV"
      }
    },
    {
      "cell_type": "markdown",
      "source": [
        "Here, we preformed an ablation study. In the full model, we incorporated prior which pre-defined the allowed connections. In the ablated model, we did not use prior to train an EHRTransformer."
      ],
      "metadata": {
        "id": "AmxJSAJ-m9QN"
      }
    },
    {
      "cell_type": "code",
      "source": [
        "gct_params_ab = {\n",
        "    \"embedding_size\": 128,\n",
        "    \"num_transformer_stack\": 3,\n",
        "    \"num_feedforward\": 2,\n",
        "    \"num_attention_heads\": 1,\n",
        "    \"ffn_dropout\": 0.08,\n",
        "    \"attention_normalizer\": \"softmax\",\n",
        "    \"multihead_attention_aggregation\": \"concat\",\n",
        "    \"directed_attention\": False,\n",
        "    \"use_inf_mask\": False,  # Without using inf mask in this ablation\n",
        "    \"use_prior\": False,  # Without using piror in this ablation\n",
        "}\n",
        "\n",
        "model_ab = EHRTransformer(gct_params=gct_params_ab,\n",
        "                      label_key='label.readmission',\n",
        "                      reg_coef=0.1,)  # reg_coef is useless, when use_prior=False\n",
        "\n",
        "model_ab_save_path = os.path.join(out_dir, 'model-ab.h5')\n",
        "\n",
        "## Call the model first to bluid graph\n",
        "predictions = model_ab(features)\n",
        "print(np.stack((labels, predictions['logits'], predictions['probabilities']), axis=-1).T)\n",
        "print([attn.shape for attn in predictions['attentions']])\n",
        "\n",
        "## Load trained model\n",
        "if os.path.exists(model_ab_save_path):\n",
        "    model_ab.load_weights(model_ab_save_path)\n",
        "    model_ab_train_flag = False\n",
        "    print('Found and loaded weights!')\n",
        "else:\n",
        "    model_ab_train_flag = True\n",
        "    print('No weights found!')"
      ],
      "metadata": {
        "colab": {
          "base_uri": "https://localhost:8080/"
        },
        "id": "jLnqJNmTjk-D",
        "outputId": "bafcde28-fff4-4665-a375-fde005fd180f"
      },
      "execution_count": 20,
      "outputs": [
        {
          "output_type": "stream",
          "name": "stdout",
          "text": [
            "[[ 0.          0.          0.          1.          0.          0.\n",
            "   0.          0.          0.          0.          0.          0.\n",
            "   0.          0.          0.          0.          0.          0.\n",
            "   0.          0.          0.          0.          0.          0.\n",
            "   0.          0.          0.          0.          0.          0.\n",
            "   0.          1.        ]\n",
            " [-0.14131239  1.6860442   2.9357696   1.4865196   1.6854923   2.1252615\n",
            "   1.6603761   0.7238254   0.35717988  2.0583389   1.9334102   0.91398394\n",
            "   2.018485    1.8934542   1.7972884   0.9731093   1.909487    1.1917285\n",
            "   1.7966735   1.3279555   0.7894946   1.3343978   0.8370322   0.79428166\n",
            "   1.5199828   1.3661524   2.4029737   2.7161546   0.19455817  1.6525311\n",
            "   1.1553618   0.9586816 ]\n",
            " [ 0.4647306   0.8437032   0.9495866   0.81555533  0.84363043  0.8933343\n",
            "   0.84028846  0.67344886  0.58835757  0.88678753  0.8736264   0.7138147\n",
            "   0.8827243   0.86914885  0.85781854  0.7257388   0.8709615   0.7670501\n",
            "   0.8577435   0.7905022   0.6877228   0.7915671   0.6978398   0.68874997\n",
            "   0.82053596  0.79675776  0.91705376  0.93797326  0.5484867   0.83923286\n",
            "   0.7604889   0.7228578 ]]\n",
            "[TensorShape([32, 1, 101, 101]), TensorShape([32, 1, 101, 101]), TensorShape([32, 1, 101, 101])]\n",
            "Found and loaded weights!\n"
          ]
        }
      ]
    },
    {
      "cell_type": "code",
      "source": [
        "if model_ab_train_flag:\n",
        "  optimizer = tf.keras.optimizers.Adam(\n",
        "      learning_rate=0.00022,\n",
        "      beta_1=0.9,\n",
        "      beta_2=0.999,\n",
        "      epsilon=1e-8\n",
        "  )\n",
        "\n",
        "  history_ab = run_train(model_ab, optimizer, train_generator_iter, valid_generator_iter, model_ab_save_path)"
      ],
      "metadata": {
        "id": "fbYGK1Gbm63f"
      },
      "execution_count": 21,
      "outputs": []
    },
    {
      "cell_type": "markdown",
      "source": [
        "```\n",
        "Start of Epoch 1\n",
        "Training loss: 0.398379385471344 - Train AUC-PR: 0.42806676030158997 - Train AUC-ROC: 0.735192596912384\n",
        "Validation loss: 0.5386015176773071 - Valid AUC-PR: 0.2188188135623932 - Valid AUC-ROC: 0.5117664337158203\n",
        "\n",
        "Start of Epoch 2\n",
        "Training loss: 0.38955000042915344 - Train AUC-PR: 0.4549289047718048 - Train AUC-ROC: 0.7503719329833984\n",
        "Validation loss: 0.5774273872375488 - Valid AUC-PR: 0.2539457082748413 - Valid AUC-ROC: 0.5708601474761963\n",
        "\n",
        "Start of Epoch 3\n",
        "Training loss: 0.38462451100349426 - Train AUC-PR: 0.4724285900592804 - Train AUC-ROC: 0.7542656064033508\n",
        "Validation loss: 0.5037546753883362 - Valid AUC-PR: 0.24321585893630981 - Valid AUC-ROC: 0.5673033595085144\n",
        "\n",
        "Start of Epoch 4\n",
        "Training loss: 0.3758658170700073 - Train AUC-PR: 0.48856642842292786 - Train AUC-ROC: 0.7677555680274963\n",
        "Validation loss: 0.43910476565361023 - Valid AUC-PR: 0.27533912658691406 - Valid AUC-ROC: 0.6359612345695496\n",
        "\n",
        "Start of Epoch 5\n",
        "Training loss: 0.3717239499092102 - Train AUC-PR: 0.5010193586349487 - Train AUC-ROC: 0.7738065719604492\n",
        "Validation loss: 0.4349829852581024 - Valid AUC-PR: 0.2478247582912445 - Valid AUC-ROC: 0.6135152578353882\n",
        "\n",
        "Start of Epoch 6\n",
        "Training loss: 0.3703138828277588 - Train AUC-PR: 0.5100313425064087 - Train AUC-ROC: 0.7782472372055054\n",
        "Validation loss: 0.49198028445243835 - Valid AUC-PR: 0.3237912654876709 - Valid AUC-ROC: 0.6663386225700378\n",
        "\n",
        "Start of Epoch 7\n",
        "Training loss: 0.3617178201675415 - Train AUC-PR: 0.5289756059646606 - Train AUC-ROC: 0.7917959690093994\n",
        "Validation loss: 0.48963966965675354 - Valid AUC-PR: 0.34653738141059875 - Valid AUC-ROC: 0.6660914421081543\n",
        "\n",
        "Start of Epoch 8\n",
        "Training loss: 0.35772833228111267 - Train AUC-PR: 0.5336450338363647 - Train AUC-ROC: 0.8001694679260254\n",
        "Validation loss: 0.4741359055042267 - Valid AUC-PR: 0.2963450849056244 - Valid AUC-ROC: 0.6730717420578003\n",
        "\n",
        "Start of Epoch 9\n",
        "Training loss: 0.357424259185791 - Train AUC-PR: 0.545624315738678 - Train AUC-ROC: 0.8050689697265625\n",
        "Validation loss: 0.4529169499874115 - Valid AUC-PR: 0.2288035750389099 - Valid AUC-ROC: 0.6346871852874756\n",
        "\n",
        "Start of Epoch 10\n",
        "Training loss: 0.35286688804626465 - Train AUC-PR: 0.5540690422058105 - Train AUC-ROC: 0.8148415088653564\n",
        "Validation loss: 0.5516526103019714 - Valid AUC-PR: 0.3031543791294098 - Valid AUC-ROC: 0.6528646945953369\n",
        "```"
      ],
      "metadata": {
        "id": "Y1XOFaeR-Sw2"
      }
    },
    {
      "cell_type": "code",
      "source": [
        "if model_ab_train_flag:\n",
        "  plot_history(history_ab)"
      ],
      "metadata": {
        "id": "UF1cOK_DnIst"
      },
      "execution_count": 22,
      "outputs": []
    },
    {
      "cell_type": "markdown",
      "source": [
        "![model-train.png](https://drive.google.com/uc?id=14mhINJFoLY42OQ2nXtUxWm6HI5CdoDCL)"
      ],
      "metadata": {
        "id": "8UYLloUd-zuy"
      }
    },
    {
      "cell_type": "markdown",
      "source": [
        "Readmission prediction accuracy of the ablated model."
      ],
      "metadata": {
        "id": "N_KnB1QFnbK9"
      }
    },
    {
      "cell_type": "code",
      "source": [
        "print('The accuracy of the ablated model:')\n",
        "test_predictions_ab = run_test(model_ab, test_features, test_labels)"
      ],
      "metadata": {
        "colab": {
          "base_uri": "https://localhost:8080/"
        },
        "id": "yzIS3udGDPhO",
        "outputId": "0d98712a-1004-4917-f03c-de19f2ae703d"
      },
      "execution_count": 23,
      "outputs": [
        {
          "output_type": "stream",
          "name": "stdout",
          "text": [
            "The accuracy of the ablated model:\n",
            "Test AUC-PR: 0.12500933\n",
            "Test AUC-ROC: 0.5116959\n"
          ]
        }
      ]
    },
    {
      "cell_type": "markdown",
      "source": [
        "Graph structure of a single visit learned by the ablated model."
      ],
      "metadata": {
        "id": "VeLjLydwnqRP"
      }
    },
    {
      "cell_type": "code",
      "source": [
        "## Extract attentions of each layer (in total, three GCT layers) of a sample\n",
        "\n",
        "plot_attentions(test_predictions_ab, sample_idx)"
      ],
      "metadata": {
        "colab": {
          "base_uri": "https://localhost:8080/",
          "height": 317
        },
        "id": "gg3juencWlDF",
        "outputId": "1e2a889b-54e8-4864-87a8-5c3fa4bb02d4"
      },
      "execution_count": 24,
      "outputs": [
        {
          "output_type": "display_data",
          "data": {
            "text/plain": [
              "<Figure size 1200x300 with 6 Axes>"
            ],
            "image/png": "[encoded data removed]"
          },
          "metadata": {}
        }
      ]
    },
    {
      "cell_type": "markdown",
      "source": [
        "# Discussion\n",
        "\n",
        "In this section,you should discuss your work and make future plan. The discussion should address the following questions:\n",
        "  * Make assessment that the paper is reproducible or not.\\\n",
        "  `In this study, we reproduced the models and performed model training to reconstruct graph structure in each single visit and to predict readmission based on the information of each visit. However, we failed to test the second hypothesis that prediction performance can be improved by introducing prior condictional probabilities. Furthermore, we oberved very similar graph structures in final layer of the GCT in both the full and ablated model.`\n",
        "  * Explain why it is not reproducible if your results are kind negative.\\\n",
        "  `The potential reason that the full model doesn't outperform the ablated model could be that in the paper, 10 folds were used to train 10 models, and accuracy was compuated based on the average of the 10 folds. However, we only train and test the models using one fold, due to limited computational resources.`\n",
        "  * Describe “What was easy” and “What was difficult” during the reproduction.\\\n",
        "  `One challenge that we faced is that the original codes in the repo were provided using Tensorflow 1 and Python 2. Therefore, they cannot be directly run and models can be trained using the current version of machine learning frameworks. In this project, all codes have been revised or rewritten for Tensorflow 2 implementations.`\n",
        "  * Make suggestions to the author or other reproducers on how to improve the reproducibility.\\\n",
        "  `We suggest that more folds (similar to ensemble) should be adopted to train and test the model performance.`\n",
        "  * What will you do in next phase.\\\n",
        "  `First, we consider to create a version of PyTorch, in order to use PyHealth in the data preprocessing. Furthermore, the current implementation is based on a single encounter. We anticipate that the GCT can be readily combined with a sequence aggregator such as RNN or 1-D CNN to handle a sequence of encounters, and derive patient representations for patient-level prediction tasks.`\n",
        "\n"
      ],
      "metadata": {
        "id": "qH75TNU71eRH"
      }
    },
    {
      "cell_type": "markdown",
      "source": [
        "# References\n",
        "\n",
        "1.   Choi, Edward, et al, Learning the graphical structure of electronic health records with graph convolutional transformer, Proceedings of the AAAI conference on artificial intelligence, 2020, 34:1, doi:\n",
        "https://doi.org/10.48550/arXiv.1906.04716\n",
        "\n"
      ],
      "metadata": {
        "id": "SHMI2chl9omn"
      }
    },
    {
      "cell_type": "code",
      "source": [],
      "metadata": {
        "id": "z8wmO8A0oR2k"
      },
      "execution_count": 24,
      "outputs": []
    }
  ]
}