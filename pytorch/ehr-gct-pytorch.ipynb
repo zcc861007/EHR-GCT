{
  "nbformat": 4,
  "nbformat_minor": 0,
  "metadata": {
    "colab": {
      "provenance": [],
      "toc_visible": true,
      "gpuType": "T4"
    },
    "kernelspec": {
      "name": "python3",
      "display_name": "Python 3"
    },
    "language_info": {
      "name": "python"
    },
    "accelerator": "GPU"
  },
  "cells": [
    {
      "cell_type": "markdown",
      "source": [
        "# Team ID: 7\n",
        "### Project\n",
        "Learning the graphical structure of electronic health records with graph convolutional transformer\n",
        "### Member\n",
        "Chaochao Zhou (cz76@illinois.edu)\n",
        "### Github Link\n",
        "https://github.com/zcc861007/EHR-GCT"
      ],
      "metadata": {
        "id": "NqleQ4RNpE_4"
      }
    },
    {
      "cell_type": "markdown",
      "source": [
        "# Introduction\n",
        "\n",
        "In this project, we attempt to reconstruct the graph structure of diagnoses and treatments in a single visit, while predicting the readmission based on the learned embedding of the single visit.  \n",
        "\n",
        "Previous studies (e.g., MiME) have demonstrated that incorporating the hierarchical structures in EHR data, such as the relations between diagnosis and treatments, can significantly boost accuracy of prediction tasks, such as heart failure prediction.  However, most publicly available EHR data do not always contain the entire structure information. In particular, when it comes to claims data, such structure information is completely unavailable.  \n",
        "\n",
        "The major contribution of the original paper is that the authors proposed Graph Convolutional Transformer (GCT), a novel approach to jointly learn the hidden encounter structure while performing various prediction tasks (e.g., readmission) based on single visit recode where the structure information is unavailable."
      ],
      "metadata": {
        "id": "6uJjkzuhpjBD"
      }
    },
    {
      "cell_type": "markdown",
      "source": [
        "# Scope of Reproducibility\n",
        "\n",
        "The paper code was written using Tensorflow 1 and Python 2. In the Draft submission, I have revised the code using Tensorflow 2 and Python 3. In the Final submission, I further write a PyTorch version of the GCT. To my best knowledge, the PyTorch version has not been avaiable publicly (e.g., on GitHub).\n",
        "\n",
        "There are two aspects that I try to reproduce:\n",
        "\n",
        "1. The performance metrices (e.g., AUC-ROC and AUC-PR) to predict the readmission in the hold-out datasets.\n",
        "2. GCT performs better than Transformer (which is an ablated model of the GCT)"
      ],
      "metadata": {
        "id": "iCjWiPYZqu16"
      }
    },
    {
      "cell_type": "markdown",
      "source": [
        "# Methodology"
      ],
      "metadata": {
        "id": "yQG6tpu0tb-K"
      }
    },
    {
      "cell_type": "markdown",
      "source": [
        "## Environment\n",
        "\n",
        "Python version: 3.10.12.\n",
        "\n",
        "PyTorch version: 2.2.1\n",
        "\n",
        "Numpy version: 1.25.2"
      ],
      "metadata": {
        "id": "Xi-UjorAtf8U"
      }
    },
    {
      "cell_type": "code",
      "execution_count": 1,
      "metadata": {
        "id": "qCMVaLEmkWlr",
        "colab": {
          "base_uri": "https://localhost:8080/"
        },
        "outputId": "c121e51e-dc47-4281-ca62-1c2eb0639b69"
      },
      "outputs": [
        {
          "output_type": "stream",
          "name": "stdout",
          "text": [
            "1.25.2\n",
            "2.2.1+cu121\n",
            "Python version: 3.10.12 (main, Nov 20 2023, 15:14:05) [GCC 11.4.0]\n"
          ]
        }
      ],
      "source": [
        "PROJ_DIR = '/content/drive/My Drive/Courses/CS598-DL4H/project'\n",
        "\n",
        "## import  packages you need\n",
        "# import tensorflow as tf\n",
        "import numpy as np\n",
        "print(np.__version__)\n",
        "np.set_printoptions(formatter={'float': lambda x: \"{0:0.3f}\".format(x)})\n",
        "import os, sys\n",
        "import matplotlib.pyplot as plt\n",
        "import seaborn as sns\n",
        "\n",
        "import torch\n",
        "print(torch.__version__)\n",
        "import torch.nn as nn\n",
        "import torch.nn.functional as F\n",
        "from torch.utils.data import Dataset, DataLoader\n",
        "import math\n",
        "import time\n",
        "from sklearn.metrics import roc_auc_score, precision_recall_curve, auc, f1_score\n",
        "\n",
        "# print(os.path.exists(PROJ_DIR))\n",
        "# sys.path.append(os.path.join(PROJ_DIR, 'tensorflow'))\n",
        "# from graph_convolutional_transformer import SequenceExampleParser, FeatureEmbedder, create_matrix_vdp\n",
        "\n",
        "print('Python version:', sys.version)"
      ]
    },
    {
      "cell_type": "markdown",
      "source": [
        "## Data\n",
        "\n",
        "The dataset adopted in this project is eICU Collaborative Research Dataset (https://physionet.org/content/eicu-crd/2.0/) inlcuding the patient, admissionDx, diagnosis, treatment CSV files\n",
        "\n",
        "Using the paper code, 10 folds were generated. Each fold includes 32820 as training data, 4103 as validation data, 4103 as test data. In particular, this experiment only use fold-0, which has been upload on GitHub (EHR-GCT/eicu_samples/proc_data/fold_0/)\n",
        "\n",
        "I further wrote a code (EHR-GCT/pytorch/data-proc-pytorch.ipynb) to generate Pytorch tensors datasets from the fold-0 Tensorflow datasets. In particular, the training data includes 15000 samples, and the hold-out (valid) dataset includes 1000 samples.\n",
        "\n",
        "**In short, to run the PyTorch version model, please first run EHR-GCT/pytorch/data-proc-pytorch.ipynb, and then upload all tensors using the code below**"
      ],
      "metadata": {
        "id": "FT0pVkLmnAkf"
      }
    },
    {
      "cell_type": "code",
      "source": [
        "train_dir = os.path.join(PROJ_DIR, 'pytorch/train')\n",
        "valid_dir = os.path.join(PROJ_DIR, 'pytorch/valid')\n",
        "\n",
        "train_embeddings = torch.load(os.path.join(train_dir, 'embeddings.pt'))\n",
        "train_masks = torch.load(os.path.join(train_dir, 'masks.pt'))\n",
        "train_guide = torch.load(os.path.join(train_dir, 'guide.pt'))\n",
        "train_prior = torch.load(os.path.join(train_dir, 'prior.pt'))\n",
        "train_labels = torch.load(os.path.join(train_dir, 'labels.pt'))\n",
        "\n",
        "valid_embeddings = torch.load(os.path.join(valid_dir, 'embeddings.pt'))\n",
        "valid_masks = torch.load(os.path.join(valid_dir, 'masks.pt'))\n",
        "valid_guide = torch.load(os.path.join(valid_dir, 'guide.pt'))\n",
        "valid_prior = torch.load(os.path.join(valid_dir, 'prior.pt'))\n",
        "valid_labels = torch.load(os.path.join(valid_dir, 'labels.pt'))\n",
        "\n",
        "print(train_embeddings.shape)\n",
        "print(train_masks.shape)\n",
        "print(train_guide.shape)\n",
        "print(train_prior.shape)\n",
        "print(train_labels.shape)\n",
        "\n",
        "print(valid_embeddings.shape)\n",
        "print(valid_masks.shape)\n",
        "print(valid_guide.shape)\n",
        "print(valid_prior.shape)\n",
        "print(valid_labels.shape)"
      ],
      "metadata": {
        "colab": {
          "base_uri": "https://localhost:8080/"
        },
        "id": "4SqLPW8_dFDE",
        "outputId": "fdb9ab71-852b-4d88-efd7-d3521cce5c5d"
      },
      "execution_count": 2,
      "outputs": [
        {
          "output_type": "stream",
          "name": "stdout",
          "text": [
            "torch.Size([15000, 101, 128])\n",
            "torch.Size([15000, 101])\n",
            "torch.Size([15000, 101, 101])\n",
            "torch.Size([15000, 101, 101])\n",
            "torch.Size([15000])\n",
            "torch.Size([1000, 101, 128])\n",
            "torch.Size([1000, 101])\n",
            "torch.Size([1000, 101, 101])\n",
            "torch.Size([1000, 101, 101])\n",
            "torch.Size([1000])\n"
          ]
        }
      ]
    },
    {
      "cell_type": "code",
      "source": [
        "class CustomDataset(Dataset):\n",
        "    def __init__(self, embeddings, masks, guide, prior, labels):\n",
        "        self.embeddings = embeddings\n",
        "        self.masks = masks\n",
        "        self.guide = guide\n",
        "        self.prior = prior\n",
        "        self.labels = labels\n",
        "\n",
        "    def __len__(self):\n",
        "        return len(self.labels)\n",
        "\n",
        "    def __getitem__(self, idx):\n",
        "        return {\n",
        "            'embeddings': self.embeddings[idx],\n",
        "            'masks': self.masks[idx],\n",
        "            'guide': self.guide[idx],\n",
        "            'prior': self.prior[idx],\n",
        "            'labels': self.labels[idx]\n",
        "        }\n",
        "\n",
        "\n",
        "def create_data_loader(embeddings, masks, guide, prior, labels, batch_size=32):\n",
        "    dataset = CustomDataset(embeddings, masks, guide, prior, labels)\n",
        "    data_loader = DataLoader(dataset, batch_size=batch_size, shuffle=True)\n",
        "    return data_loader"
      ],
      "metadata": {
        "id": "sr0c1jgRszMZ"
      },
      "execution_count": 3,
      "outputs": []
    },
    {
      "cell_type": "code",
      "source": [
        "train_data_loader = create_data_loader(train_embeddings, train_masks, train_guide, train_prior, train_labels, batch_size=32)\n",
        "valid_data_loader = create_data_loader(valid_embeddings, valid_masks, valid_guide, valid_prior, valid_labels, batch_size=1000)"
      ],
      "metadata": {
        "id": "Os8CwzJ-s-9y"
      },
      "execution_count": 4,
      "outputs": []
    },
    {
      "cell_type": "code",
      "source": [
        "batch_nums = 0\n",
        "for _ in train_data_loader:\n",
        "  batch_nums += 1\n",
        "print(batch_nums)"
      ],
      "metadata": {
        "colab": {
          "base_uri": "https://localhost:8080/"
        },
        "id": "vDh7y-Ni_hnN",
        "outputId": "2cdb1f4c-6c08-444c-c638-aa085bfb9924"
      },
      "execution_count": 5,
      "outputs": [
        {
          "output_type": "stream",
          "name": "stdout",
          "text": [
            "469\n"
          ]
        }
      ]
    },
    {
      "cell_type": "code",
      "source": [
        "## Load a sample for model testing\n",
        "data_iterator = iter(train_data_loader)\n",
        "batch = next(data_iterator)\n",
        "\n",
        "embeddings = batch['embeddings']\n",
        "masks = batch['masks']\n",
        "guide = batch['guide']\n",
        "prior = batch['prior']\n",
        "labels = batch['labels']\n",
        "\n",
        "print(embeddings.shape)\n",
        "print(masks.shape)\n",
        "print(guide.shape)\n",
        "print(prior.shape)\n",
        "print(labels.shape)"
      ],
      "metadata": {
        "colab": {
          "base_uri": "https://localhost:8080/"
        },
        "id": "4lShzWp2uEPt",
        "outputId": "4e2d625f-db0c-4b69-f455-6d2c2d3d4186"
      },
      "execution_count": 6,
      "outputs": [
        {
          "output_type": "stream",
          "name": "stdout",
          "text": [
            "torch.Size([32, 101, 128])\n",
            "torch.Size([32, 101])\n",
            "torch.Size([32, 101, 101])\n",
            "torch.Size([32, 101, 101])\n",
            "torch.Size([32])\n"
          ]
        }
      ]
    },
    {
      "cell_type": "markdown",
      "source": [
        "## Model\n",
        "\n",
        "**Citation to the original paper**: Choi, Edward, et al, Learning the graphical structure of electronic health records with graph convolutional transformer, Proceedings of the AAAI conference on artificial intelligence, 2020, 34:1, doi: https://doi.org/10.48550/arXiv.1906.04716\n",
        "\n",
        "**Like to the original paper's repo**: https://github.com/Google-Health/records-research/tree/master/graph-convolutional-transformer"
      ],
      "metadata": {
        "id": "toARN7qXnLjb"
      }
    },
    {
      "cell_type": "markdown",
      "source": [
        "**Model descriptions**:\n",
        "\n",
        "The GCT consists of three layers of multi-headed transformers. As shown in Eq. (3) below, the attention mechanism in the first GCT block is replaced with the conditional probabilities P. The following blocks use the masked self-attention mechanism. Based on the GCT, an EHRModel as the final layer is used to predict the readmission according to the diagnosis and treatments in a single visit.\n",
        "\n",
        "\n",
        "<img src=\"https://drive.google.com/uc?id=1tI-Ldh4rT8iAsIZcg34wi9EmBU48x307\" width=\"500\" height=\"350\" alt=\"Model Architecture\">\n",
        "\n",
        "\n",
        "Except a BCE loss with respect to the readmission labels, a regularization term is further introduced for the training of the GCT.  GCT is expected to gradually improve upon P, instead of drastically deviating from the informative P. Based on the fact that attention is itself a probability distribution, we sequentially penalize attention of j-th block if it deviates too much from the attention of (j – 1)-th block, using KL divergence. As shown by Eq. (4), the regularization terms are summed to the prediction loss term (e.g. negative log-likelihood), and the trade-off is controlled by the coefficient λ.\n",
        "\n",
        "In my code, the `guide` tensor of each sample is a 0/1 mask, representing permissible connections in the eICU encounter record (e.g., diagnosis codes can only be linked with procedure codes, not with themselves). Movermore, the `prior` tensor of each sample denotes conditional probabilities of these permissible connections, which can be computed by going through the training data, and counting the number of occurrences of each code and the co-occurrence of code pairs."
      ],
      "metadata": {
        "id": "DAksuL841z2G"
      }
    },
    {
      "cell_type": "code",
      "source": [
        "class Attention(nn.Module):\n",
        "    def forward(self, query, key, value, mask=None, dropout=None):\n",
        "        d_k = query.size(-1)  # Dimension of the key, used for scaling down the dot product\n",
        "        # Calculate the dot products of the query with all keys, divide each by sqrt(d_k),\n",
        "        # and apply a softmax to obtain the weights on the values\n",
        "        scores = torch.matmul(query, key.transpose(-2, -1)) / math.sqrt(d_k)\n",
        "        if mask is not None:\n",
        "            # Apply mask - set scores to -inf where mask is 0 to ignore these positions\n",
        "            # scores = scores.masked_fill(mask == 0, -1e9)\n",
        "            scores = scores.masked_fill(mask == 0, float('-inf'))\n",
        "        p_attn = torch.softmax(scores, dim=-1)  # Softmax to obtain the weights\n",
        "        p_attn = p_attn.masked_fill(torch.isnan(p_attn), 0)  # Replace any NaNs with zero\n",
        "        if dropout is not None:\n",
        "            p_attn = dropout(p_attn)  # Apply dropout to the attention weights\n",
        "        # Multiply the weights by the value to get the output\n",
        "        return torch.matmul(p_attn, value), p_attn\n",
        "\n",
        "\n",
        "class MultiHeadedAttention(nn.Module):\n",
        "    def __init__(self, h, d_model, dropout=0.1):\n",
        "        super().__init__()\n",
        "        assert d_model % h == 0  # Ensure that d_model is divisible by h\n",
        "        self.d_k = d_model // h  # Dimension of each head\n",
        "        self.h = h  # Number of heads\n",
        "        # Linear layers for projecting Q, K, V\n",
        "        self.linear_layers = nn.ModuleList([nn.Linear(d_model, d_model, bias=False) for _ in range(3)])\n",
        "        self.attention = Attention()  # The attention mechanism defined above\n",
        "        self.dropout = nn.Dropout(p=dropout)\n",
        "        self.output_linear = nn.Linear(d_model, d_model, bias=False)  # Final projection\n",
        "\n",
        "    def forward(self, query, key, value, mask=None, training=False):\n",
        "        batch_size = query.size(0)\n",
        "        # Prepare Q, K, V for multi-head processing (split into h heads)\n",
        "        query, key, value = \\\n",
        "            [l(x).view(batch_size, -1, self.h, self.d_k).transpose(1, 2)\n",
        "             for l, x in zip(self.linear_layers, (query, key, value))]\n",
        "        if mask is not None:\n",
        "            mask = mask.unsqueeze(1)  # Adjust mask for multi-heads\n",
        "        if training:\n",
        "            x, attn = self.attention(query, key, value, mask=mask, dropout=self.dropout)\n",
        "        else:\n",
        "            x, attn = self.attention(query, key, value, mask=mask)\n",
        "        # Concatenate heads and apply final linear projection\n",
        "        x = x.transpose(1, 2).contiguous().view(batch_size, -1, self.h * self.d_k)\n",
        "        x = self.output_linear(x)  # Apply final linear projection\n",
        "        return x, attn\n",
        "\n",
        "\n",
        "class PositionwiseFeedForward(nn.Module):\n",
        "    def __init__(self, embedding_size, num_feedforward, dropout=0.1):\n",
        "        super().__init__()\n",
        "        self.num_feedforward = num_feedforward\n",
        "        self.ff_layers = nn.ModuleList([nn.Linear(embedding_size, embedding_size) for _ in range(num_feedforward)])\n",
        "        self.dropout = nn.Dropout(p=dropout)\n",
        "\n",
        "    def forward(self, x, training):\n",
        "        # for layer in self.ff_layers:\n",
        "        #     x = F.relu(layer(x))\n",
        "        #     if training:\n",
        "        #         x = self.dropout(x)\n",
        "        for i in range(self.num_feedforward):\n",
        "            if i < self.num_feedforward - 1:\n",
        "                x = F.relu(self.ff_layers[i](x))\n",
        "            else:\n",
        "                x = self.ff_layers[i](x)\n",
        "            if training:\n",
        "                x = self.dropout(x)\n",
        "        return x\n",
        "\n",
        "\n",
        "class TransformerBlock(nn.Module):\n",
        "    def __init__(self, embedding_size, num_attention_heads, num_feedforward):\n",
        "        super(TransformerBlock, self).__init__()\n",
        "        self.num_attention_heads = num_attention_heads\n",
        "        self.multihead_attention = MultiHeadedAttention(num_attention_heads, embedding_size, dropout=0.1)\n",
        "        self.feed_forward = PositionwiseFeedForward(embedding_size, num_feedforward, dropout=0.1)\n",
        "        self.layer_norm1 = nn.LayerNorm(embedding_size)\n",
        "        self.layer_norm2 = nn.LayerNorm(embedding_size)\n",
        "\n",
        "    def forward(self, features, masks=None, prior=None, training=False):\n",
        "        # Apply multi-head attention\n",
        "        if masks is not None and prior is None:\n",
        "            attn_output, attention = self.multihead_attention(features, features, features, masks, training)\n",
        "        elif masks is None and prior is not None:\n",
        "            # attn_output = torch.matmul(prior, features)\n",
        "            attention = prior.unsqueeze(1).repeat(1, self.num_attention_heads, 1, 1)  # (batches, heads, seq_len, seq_len)\n",
        "\n",
        "            batch_size = features.size(0)\n",
        "            h = self.multihead_attention.h\n",
        "            d_k = self.multihead_attention.d_k\n",
        "\n",
        "            value = self.multihead_attention.linear_layers[-1](features)\n",
        "            value = value.view(batch_size, -1, h, d_k).transpose(1, 2)\n",
        "            attn_output = torch.matmul(attention, value)\n",
        "            attn_output = attn_output.transpose(1, 2).contiguous().view(batch_size, -1, h * d_k)\n",
        "            attn_output = self.multihead_attention.output_linear(attn_output)\n",
        "\n",
        "        # Apply residual connection and layer normalization\n",
        "        features = self.layer_norm1(features + attn_output)\n",
        "\n",
        "        # Apply feedforward network\n",
        "        ffn_output = self.feed_forward(features, training)\n",
        "\n",
        "        # Apply second residual connection and layer normalization\n",
        "        features = self.layer_norm2(features + ffn_output)\n",
        "\n",
        "        return features, attention"
      ],
      "metadata": {
        "id": "1XuSNdaxnMY7"
      },
      "execution_count": 7,
      "outputs": []
    },
    {
      "cell_type": "code",
      "source": [
        "# model = PositionwiseFeedForward(embedding_size=128, num_feedforward=1, dropout=0.1)\n",
        "# hidden = model(embeddings, training=True)\n",
        "# print(hidden.shape)\n",
        "\n",
        "# print(embeddings.shape)\n",
        "# print(masks.shape)\n",
        "# model = MultiHeadedAttention(h=4, d_model=128, dropout=0.1)\n",
        "# hidden, attention = model(embeddings, embeddings, embeddings)\n",
        "# print(hidden.shape)\n",
        "# print(attention.shape)"
      ],
      "metadata": {
        "id": "ytqtSUzWU9VN"
      },
      "execution_count": 8,
      "outputs": []
    },
    {
      "cell_type": "code",
      "source": [
        "# model = TransformerBlock(embedding_size=128, num_attention_heads=1, num_feedforward=2)\n",
        "# # hidden, attensions = model(embeddings, torch.einsum(\"ab,ac->abc\", masks, masks), training=False)\n",
        "# hidden, attensions = model(embeddings, prior=prior, training=False)\n",
        "# print(hidden.shape)\n",
        "# print(attensions.shape)\n",
        "\n",
        "# attensions[0,0]\n",
        "# print(masks[0])\n",
        "# print(hidden[0])"
      ],
      "metadata": {
        "id": "ck7jx5qGoh8G"
      },
      "execution_count": 9,
      "outputs": []
    },
    {
      "cell_type": "code",
      "source": [
        "class GCT(nn.Module):\n",
        "    def __init__(self,\n",
        "                 embedding_size=128,\n",
        "                 num_transformer_stack=3,\n",
        "                 num_feedforward=2,\n",
        "                 num_attention_heads=1,\n",
        "                 directed_attention=False,\n",
        "                 use_guide=True,\n",
        "                 use_prior=True):\n",
        "\n",
        "        super(GCT, self).__init__()\n",
        "\n",
        "        self.hidden_size = embedding_size\n",
        "        self.num_stack = num_transformer_stack\n",
        "        self.num_feedforward = num_feedforward\n",
        "        self.num_heads = num_attention_heads\n",
        "        self.use_guide = use_guide\n",
        "        self.use_prior = use_prior\n",
        "        self.directed_attention = directed_attention\n",
        "\n",
        "        # Define transformer blocks\n",
        "        self.transformer_blocks = nn.ModuleList([\n",
        "            TransformerBlock(embedding_size, num_attention_heads, num_feedforward)\n",
        "            for _ in range(num_transformer_stack)\n",
        "        ])\n",
        "\n",
        "    def forward(self, features, masks, guide=None, prior=None, training=None):\n",
        "        batch_size = features.size(0)\n",
        "        num_codes = masks.size(1)\n",
        "\n",
        "        combined_masks = attn_masks = torch.einsum(\"ab,ac->abc\", masks, masks)\n",
        "\n",
        "        if self.use_prior:\n",
        "            prior = attn_masks * prior\n",
        "\n",
        "        if self.directed_attention:\n",
        "            directed_masks = torch.triu(torch.ones(num_codes, num_codes), diagonal=0).unsqueeze(0)\n",
        "            combined_masks = combined_masks * directed_masks\n",
        "\n",
        "        if self.use_guide:\n",
        "            combined_masks = combined_masks * guide\n",
        "\n",
        "        attentions = []\n",
        "        for i, transformer_block in enumerate(self.transformer_blocks):\n",
        "            features = features * masks[..., None]\n",
        "            # features.masked_fill(masks[..., None] == 0, 0)\n",
        "\n",
        "            if self.use_prior and i == 0:\n",
        "                features, attention = transformer_block(features, masks=None, prior=prior, training=training)\n",
        "            else:\n",
        "                features, attention = transformer_block(features, masks=combined_masks, prior=None, training=training)\n",
        "\n",
        "            attentions.append(attention)\n",
        "\n",
        "        return features * masks[..., None], attentions\n",
        "        # return features.masked_fill(masks[..., None] == 0, 0), attentions"
      ],
      "metadata": {
        "id": "xcdLtcTGyui5"
      },
      "execution_count": 10,
      "outputs": []
    },
    {
      "cell_type": "code",
      "source": [
        "# model = GCT(num_transformer_stack=3, use_guide=False, use_prior=False)\n",
        "\n",
        "# hidden, attensions = model(embeddings, masks, guide, prior, training=True)\n",
        "# print(hidden.shape)\n",
        "# print([attn.shape for attn in attensions])\n",
        "\n",
        "# print(masks[0])\n",
        "# print(hidden[0])\n",
        "# print(attensions[0][0])\n",
        "# print(prior[0])\n",
        "# print(guide[0])"
      ],
      "metadata": {
        "id": "KYediqLo1Pu-"
      },
      "execution_count": 11,
      "outputs": []
    },
    {
      "cell_type": "code",
      "source": [
        "class EHRModel(nn.Module):\n",
        "  def __init__(self, gct_params, num_classes=1):\n",
        "    super(EHRModel, self).__init__()\n",
        "    self.gct = GCT(**gct_params)\n",
        "    # self.linear = nn.Linear(gct_params['embedding_size'], gct_params['embedding_size']//2)\n",
        "    # self.classifier = nn.Linear(gct_params['embedding_size']//2, num_classes)\n",
        "    self.classifier = nn.Linear(gct_params['embedding_size'], num_classes)\n",
        "    self.dropout = nn.Dropout(0.1)\n",
        "\n",
        "  def forward(self, x, masks, guide=None, prior=None, training=None):\n",
        "    hidden, attentions = self.gct(x, masks, guide, prior, training)\n",
        "\n",
        "    # hidden = hidden[:, 0, :]  # paper code doesn't make sense\n",
        "    # hidden = hidden.mean(dim=1)\n",
        "    hidden = hidden.sum(dim=1)\n",
        "\n",
        "    ## mean pooling\n",
        "    # hidden = hidden.sum(dim=1) / masks.sum(dim=-1, keepdim=True)\n",
        "\n",
        "    ## max pooling\n",
        "    # masks_expanded = masks.unsqueeze(-1).type_as(hidden)  # Shape [batch, seq_len, 1]\n",
        "    # hidden_masked = hidden * masks_expanded + (1.0 - masks_expanded) * hidden.min()\n",
        "    # hidden, _ = torch.max(hidden_masked, dim=1)\n",
        "\n",
        "    if training: hidden = self.dropout(hidden)\n",
        "    # hidden = F.relu(self.linear(hidden))\n",
        "    # if training: hidden = self.dropout(hidden)\n",
        "    logits = self.classifier(hidden)\n",
        "    logits = logits.squeeze(-1)\n",
        "    return logits, attentions"
      ],
      "metadata": {
        "id": "GH8suyu4GrId"
      },
      "execution_count": 12,
      "outputs": []
    },
    {
      "cell_type": "code",
      "source": [
        "criterion = nn.BCEWithLogitsLoss()\n",
        "\n",
        "def get_loss(labels, logits, attentions=None, reg_coef=0, use_prior=False, is_print=False):\n",
        "  loss = criterion(logits, labels)\n",
        "  if is_print: print('loss:', loss)\n",
        "\n",
        "  if use_prior and len(attentions) > 1:\n",
        "    kl_terms = []\n",
        "    attention_tensor = torch.stack(attentions)  # shape: (stacks, batches, heads, seq_len, seq_len)\n",
        "    if is_print: print(attention_tensor.shape)\n",
        "    for i in range(1, len(attention_tensor)):  # i is stack\n",
        "      log_p = torch.log(attention_tensor[i - 1] + 1e-12)\n",
        "      log_q = torch.log(attention_tensor[i] + 1e-12)\n",
        "      kl_term = attention_tensor[i - 1] * (log_p - log_q)\n",
        "      kl_term = torch.sum(kl_term, dim=-1)\n",
        "      kl_term = torch.mean(kl_term)\n",
        "      kl_terms.append(kl_term)\n",
        "\n",
        "    kl_terms = torch.stack(kl_terms)\n",
        "    if is_print: print(kl_terms)\n",
        "    reg_term = torch.mean(kl_terms)\n",
        "    if is_print: print('reg:', reg_coef * reg_term)\n",
        "    loss += reg_coef * reg_term\n",
        "\n",
        "  return loss"
      ],
      "metadata": {
        "id": "sm-wQRiKaM7L"
      },
      "execution_count": 13,
      "outputs": []
    },
    {
      "cell_type": "markdown",
      "source": [
        "## Training\n",
        "\n",
        "**Hyperparameters**:\n",
        "\n",
        "In this project, I didn't perform hyperparameter tuning. Instead, we directly use the tuned hyperparameters reported in the original paper. Concretely, Learning rate = 0.00022, Transformer droupout rate = 0.1, Regulation coeficient = 0.1.\n",
        "\n",
        "**Computational requirement**\n",
        "\n",
        "One T4 GPU on Google Colab. 30 epochs (each epoch includes 15000 samples in the training dataset) were performed, with ~ 6 sec/epoch. In total, each training took ~ 3 min.  "
      ],
      "metadata": {
        "id": "L9A2e3-x3hi8"
      }
    },
    {
      "cell_type": "code",
      "source": [
        "def train_model(model, gct_params, data_loader, saving_path, n_epoch=5, lr=0.00022, device=None):\n",
        "    device = device or torch.device('cuda' if torch.cuda.is_available() else 'cpu')\n",
        "    model.to(device)  # Ensure model is on the correct device\n",
        "    model.train()\n",
        "\n",
        "    tic = time.time()\n",
        "    loss_history = []\n",
        "    optimizer = torch.optim.Adam(model.parameters(), lr=lr)\n",
        "\n",
        "    for epoch in range(n_epoch):\n",
        "        curr_epoch_loss = []\n",
        "        for batch in data_loader:\n",
        "            embeddings, masks, guide, prior, labels = batch['embeddings'], batch['masks'], batch['guide'], batch['prior'], batch['labels']\n",
        "            embeddings, masks, guide, prior, labels = embeddings.to(device), masks.to(device), guide.to(device), prior.to(device), labels.to(device)\n",
        "\n",
        "            optimizer.zero_grad()\n",
        "            if gct_params['use_prior']:\n",
        "                logits, attentions = model(embeddings, masks, guide, prior, training=True)\n",
        "                loss = get_loss(labels, logits, attentions, reg_coef=0.1, use_prior=True)\n",
        "            else:\n",
        "                logits, attentions = model(embeddings, masks, training=True)\n",
        "                loss = get_loss(labels, logits)\n",
        "            loss.backward()\n",
        "            optimizer.step()\n",
        "            curr_epoch_loss.append(loss.item())  # Change from cpu().data.numpy() to item()\n",
        "\n",
        "        epoch_loss = np.mean(curr_epoch_loss)\n",
        "        loss_history.append(epoch_loss)\n",
        "\n",
        "        if epoch == 0:\n",
        "            best_loss = epoch_loss\n",
        "\n",
        "        print(f\"Epoch {str(epoch+1).zfill(2)}: Current Epoch Loss = {epoch_loss} | Model Saving = {epoch_loss < best_loss}\")\n",
        "\n",
        "        if epoch_loss < best_loss:\n",
        "            torch.save(model.state_dict(), saving_path)\n",
        "            best_loss = epoch_loss\n",
        "\n",
        "    toc = time.time()\n",
        "    print(f\"Training time: {(toc - tic)/60} min\")\n",
        "    return model, loss_history"
      ],
      "metadata": {
        "id": "883y4wS_iHCW"
      },
      "execution_count": 14,
      "outputs": []
    },
    {
      "cell_type": "markdown",
      "source": [
        "## Evaluation\n",
        "\n",
        "The performance metrics to predict readmission include AUC-ROC, AUC-PR, and F1 scores of both the training and hold-out datasets."
      ],
      "metadata": {
        "id": "bmbTUPTX7NJz"
      }
    },
    {
      "cell_type": "code",
      "source": [
        "def eval_model(model, gct_params, data_loader, device=None):\n",
        "    device = device or torch.device('cuda' if torch.cuda.is_available() else 'cpu')\n",
        "    model.to(device)  # Ensure model is on the correct device\n",
        "    Y_pred = []\n",
        "    Y_test = []\n",
        "    Attens = []\n",
        "    for batch in data_loader:\n",
        "        embeddings, masks, guide, prior, labels = batch['embeddings'], batch['masks'], batch['guide'], batch['prior'], batch['labels']\n",
        "        embeddings, masks, guide, prior, labels = embeddings.to(device), masks.to(device), guide.to(device), prior.to(device), labels.to(device)\n",
        "\n",
        "        if gct_params['use_prior']:\n",
        "            logits, attentions = model(embeddings, masks, guide, prior, training=False)\n",
        "        else:\n",
        "            logits, attentions = model(embeddings, masks, training=False)\n",
        "\n",
        "        probs = torch.sigmoid(logits)\n",
        "\n",
        "        Y_pred.append(probs.cpu().data.numpy())\n",
        "        Y_test.append(labels.cpu().data.numpy())\n",
        "        attentions = torch.stack(attentions)\n",
        "        Attens.append(attentions.cpu().data.numpy())\n",
        "\n",
        "    Y_pred = np.concatenate(Y_pred, axis=0)\n",
        "    Y_test = np.concatenate(Y_test, axis=0)\n",
        "    Attens = np.concatenate(Attens, axis=1)\n",
        "    Attens = np.swapaxes(Attens, 0, 1)  # (batches, stacks, heads, seq_len, seq_len)\n",
        "\n",
        "    return Y_pred, Y_test, Attens"
      ],
      "metadata": {
        "id": "AjPYd9ayvzRX"
      },
      "execution_count": 15,
      "outputs": []
    },
    {
      "cell_type": "code",
      "source": [
        "def evaluate_predictions(pred, truth):\n",
        "    \"\"\"\n",
        "    TODO: Evaluate the performance of the predictoin via AUROC, and F1 score\n",
        "    each prediction in pred is a vector representing [p_0, p_1].\n",
        "    When defining the scores we are interesed in detecting class 1 only\n",
        "    (Hint: use roc_auc_score and f1_score from sklearn.metrics, be sure to read their documentation)\n",
        "    return: auc_roc, auc_pr, f1\n",
        "    \"\"\"\n",
        "\n",
        "    auc_roc = roc_auc_score(truth, pred)\n",
        "\n",
        "    precision, recall, _ = precision_recall_curve(truth, pred)\n",
        "    auc_pr = auc(recall, precision)\n",
        "\n",
        "    y_pred = (pred>0.5).astype(int)\n",
        "    f1 = f1_score(truth, y_pred)\n",
        "\n",
        "    return auc_roc, auc_pr, f1"
      ],
      "metadata": {
        "id": "LhbcBKfU0wDg"
      },
      "execution_count": 16,
      "outputs": []
    },
    {
      "cell_type": "code",
      "source": [
        "def plot_attentions(attentions, sample_idx=0):\n",
        "  plt.figure(figsize=(12, 3))  # You can adjust the size as needed\n",
        "\n",
        "  plt.subplot(1,3,1)\n",
        "  sns.heatmap((attentions[sample_idx][0,0,:,:]*255).astype('int64'),\n",
        "              annot=False, fmt='d', cmap='Blues', cbar=True)\n",
        "  plt.title('Layer 1')\n",
        "\n",
        "  plt.subplot(1,3,2)\n",
        "  sns.heatmap((attentions[sample_idx][1,0,:,:]*255).astype('int64'),\n",
        "              annot=False, fmt='d', cmap='Blues', cbar=True)\n",
        "  plt.title('Layer 2')\n",
        "\n",
        "  plt.subplot(1,3,3)\n",
        "  sns.heatmap((attentions[sample_idx][2,0,:,:]*255).astype('int64'),\n",
        "              annot=False, fmt='d', cmap='Blues', cbar=True)\n",
        "  plt.title('Layer 3')\n",
        "\n",
        "  plt.show()"
      ],
      "metadata": {
        "id": "uqXiLFDF4BPV"
      },
      "execution_count": 17,
      "outputs": []
    },
    {
      "cell_type": "markdown",
      "source": [
        "# Restuls\n",
        "\n",
        "In this work, I developed two models, including:\n",
        "\n",
        "1. GCT model (full model): consiting of three layers of transformer blocks, where the attention scores in the first block were fed with the conditional probabilities.\n",
        "\n",
        "2. Transformer model (ablated model): consisting of three layers of transformer blocks."
      ],
      "metadata": {
        "id": "qVlzoRPG7TOg"
      }
    },
    {
      "cell_type": "markdown",
      "source": [
        "**Hypotheses**:\n",
        "\n",
        "Hypothesis 1: GCT can rescontruct the graph structure in a single visit. To test it, we will plot the graph structure, represtned by the confusion matrix of the attention scores.\n",
        "\n",
        "Hypothesis 2: Prediction performance can be improved by introducing prior condictional probabilities, based on the fact that some connections are not allowed in the encounter record (e.g., dignosis codes can only connect to treatments, instead of themselves). Correspondingly, it is expected that the GCT model with prior could perform better than the transformer model."
      ],
      "metadata": {
        "id": "YI1kQqe7Iyra"
      }
    },
    {
      "cell_type": "markdown",
      "source": [
        "## Full Model Experiement - GCT Model"
      ],
      "metadata": {
        "id": "acVVCeDKKIkl"
      }
    },
    {
      "cell_type": "code",
      "source": [
        "gct_params = {\n",
        "    \"embedding_size\": 128,\n",
        "    \"num_transformer_stack\": 3,\n",
        "    \"num_feedforward\": 2,\n",
        "    \"num_attention_heads\": 1,\n",
        "    \"directed_attention\": False,\n",
        "    \"use_guide\": True,  # Use guide mask\n",
        "    \"use_prior\": True,  # Use conditional probability\n",
        "}\n",
        "\n",
        "model = EHRModel(gct_params)\n",
        "\n",
        "logits, attentions = model(embeddings, masks, guide, prior, training=False)\n",
        "print(get_loss(labels, logits, attentions, reg_coef=0.1, use_prior=gct_params['use_prior']))\n",
        "print(logits)\n",
        "print(labels)"
      ],
      "metadata": {
        "colab": {
          "base_uri": "https://localhost:8080/"
        },
        "outputId": "13b25ca7-cf44-4747-b4ab-4debc386558e",
        "id": "fZhneGFYKIkw"
      },
      "execution_count": 34,
      "outputs": [
        {
          "output_type": "stream",
          "name": "stdout",
          "text": [
            "tensor(3.5500, grad_fn=<AddBackward0>)\n",
            "tensor([15.4786,  6.5871,  2.9517,  2.6963,  4.1805,  3.2936,  3.1468,  3.5165,\n",
            "         1.6763, 11.8824,  2.4732,  4.3208,  0.7516,  2.0478,  6.3463,  7.8786,\n",
            "         5.3807,  2.7955,  2.5435,  6.0508,  2.1534,  2.0689,  1.4051,  3.4172,\n",
            "         2.8580,  1.2877,  5.4070,  2.7189,  1.6468,  6.4918, -0.9614,  3.0130],\n",
            "       grad_fn=<SqueezeBackward1>)\n",
            "tensor([0., 0., 0., 0., 0., 0., 0., 0., 0., 0., 0., 1., 0., 0., 0., 1., 0., 1.,\n",
            "        1., 0., 0., 0., 0., 0., 0., 0., 0., 0., 0., 0., 0., 0.])\n"
          ]
        }
      ]
    },
    {
      "cell_type": "code",
      "source": [
        "## Check if batches are unique\n",
        "\n",
        "# preds = []\n",
        "\n",
        "# for batch in train_data_loader:\n",
        "#   embeddings, masks, guide, prior, labels = batch['embeddings'], batch['masks'], batch['guide'], batch['prior'], batch['labels']\n",
        "#   logits, attentions = model(embeddings, masks, guide, prior, training=False)\n",
        "#   preds.append(logits.cpu().data.numpy())\n",
        "\n",
        "# print(len(preds))\n",
        "\n",
        "# # Dictionary to track unique arrays\n",
        "# unique_arrays = {}\n",
        "\n",
        "# # Check for duplicates\n",
        "# for idx, arr in enumerate(preds):\n",
        "#     # Convert array to a tuple of its data and use as a key\n",
        "#     array_key = tuple(arr.tolist())\n",
        "#     if array_key in unique_arrays:\n",
        "#         print(f\"Duplicate array found: {arr} at indices {unique_arrays[array_key]} and {idx}\")\n",
        "#     else:\n",
        "#         unique_arrays[array_key] = idx\n",
        "\n",
        "# print(len(unique_arrays))"
      ],
      "metadata": {
        "id": "5Nw-wiwTGyFs"
      },
      "execution_count": 19,
      "outputs": []
    },
    {
      "cell_type": "code",
      "source": [
        "model_path = os.path.join(PROJ_DIR, 'pytorch/gct-model.pth')\n",
        "TRAIN_MODEL = not os.path.exists(model_path)\n",
        "# TRAIN_MODEL = False\n",
        "\n",
        "if TRAIN_MODEL:\n",
        "  model, loss_history = train_model(model, gct_params, train_data_loader, saving_path=model_path, n_epoch=30)\n",
        "else:\n",
        "  model.load_state_dict(torch.load(model_path))\n",
        "  print('Model loaded.')"
      ],
      "metadata": {
        "colab": {
          "base_uri": "https://localhost:8080/"
        },
        "outputId": "12a7e6e7-41cb-44b5-b4fc-b399e8e1f0c2",
        "id": "pd06bllHKIkw"
      },
      "execution_count": 35,
      "outputs": [
        {
          "output_type": "stream",
          "name": "stdout",
          "text": [
            "Model loaded.\n"
          ]
        }
      ]
    },
    {
      "cell_type": "markdown",
      "source": [
        "```\n",
        "Epoch 01: Current Epoch Loss = 0.5718378442436901 | Model Saving = False\n",
        "Epoch 02: Current Epoch Loss = 0.49807304553767 | Model Saving = True\n",
        "Epoch 03: Current Epoch Loss = 0.4781472231469937 | Model Saving = True\n",
        "Epoch 04: Current Epoch Loss = 0.46123988449827696 | Model Saving = True\n",
        "Epoch 05: Current Epoch Loss = 0.44686552688384107 | Model Saving = True\n",
        "Epoch 06: Current Epoch Loss = 0.43478345708933464 | Model Saving = True\n",
        "Epoch 07: Current Epoch Loss = 0.4236524905731429 | Model Saving = True\n",
        "Epoch 08: Current Epoch Loss = 0.407588240275505 | Model Saving = True\n",
        "Epoch 09: Current Epoch Loss = 0.3903668244510317 | Model Saving = True\n",
        "Epoch 10: Current Epoch Loss = 0.37955509523338854 | Model Saving = True\n",
        "Epoch 11: Current Epoch Loss = 0.3595999511701466 | Model Saving = True\n",
        "Epoch 12: Current Epoch Loss = 0.34058682337752794 | Model Saving = True\n",
        "Epoch 13: Current Epoch Loss = 0.3229452586059631 | Model Saving = True\n",
        "Epoch 14: Current Epoch Loss = 0.3014497362029578 | Model Saving = True\n",
        "Epoch 15: Current Epoch Loss = 0.2919875438978423 | Model Saving = True\n",
        "Epoch 16: Current Epoch Loss = 0.27509326703830567 | Model Saving = True\n",
        "Epoch 17: Current Epoch Loss = 0.2592397846583364 | Model Saving = True\n",
        "Epoch 18: Current Epoch Loss = 0.2507805527845171 | Model Saving = True\n",
        "Epoch 19: Current Epoch Loss = 0.24475414850818578 | Model Saving = True\n",
        "Epoch 20: Current Epoch Loss = 0.24092261169129597 | Model Saving = True\n",
        "Epoch 21: Current Epoch Loss = 0.22628370643869392 | Model Saving = True\n",
        "Epoch 22: Current Epoch Loss = 0.21841317275439753 | Model Saving = True\n",
        "Epoch 23: Current Epoch Loss = 0.21938536216073962 | Model Saving = False\n",
        "Epoch 24: Current Epoch Loss = 0.20489505019142176 | Model Saving = True\n",
        "Epoch 25: Current Epoch Loss = 0.20742542581009205 | Model Saving = False\n",
        "Epoch 26: Current Epoch Loss = 0.20225612800131473 | Model Saving = True\n",
        "Epoch 27: Current Epoch Loss = 0.19734561468746617 | Model Saving = True\n",
        "Epoch 28: Current Epoch Loss = 0.19191358409234202 | Model Saving = True\n",
        "Epoch 29: Current Epoch Loss = 0.1878924439710849 | Model Saving = True\n",
        "Epoch 30: Current Epoch Loss = 0.18411940366411006 | Model Saving = True\n",
        "Training time: 2.9506580034891763 min\n",
        "```"
      ],
      "metadata": {
        "id": "9CuHSF57jytF"
      }
    },
    {
      "cell_type": "code",
      "source": [
        "## Check loss function\n",
        "\n",
        "# model.to('cpu')\n",
        "# logits, attentions = model(embeddings, masks, guide, prior, training=False)\n",
        "# print(get_loss(labels, logits, attentions, reg_coef=0.1, use_prior=gct_params['use_prior'], is_print=True))\n",
        "# print(torch.sigmoid(logits).detach().numpy())\n",
        "# print(labels)"
      ],
      "metadata": {
        "id": "X8gy1OnsXrW0"
      },
      "execution_count": 21,
      "outputs": []
    },
    {
      "cell_type": "code",
      "source": [
        "print('Evaluvate training dataset:\\n')\n",
        "\n",
        "Y_pred, Y_test, _ = eval_model(model, gct_params, train_data_loader)\n",
        "print('Percentage of positive labels in training dataset:', (Y_test == 1).sum() / len(Y_test) * 100, '%')\n",
        "\n",
        "print(Y_pred.shape, Y_test.shape)\n",
        "print('Probs', 'Labels')\n",
        "print(np.stack((Y_pred, Y_test), axis=-1)[:30])\n",
        "\n",
        "auc_roc, auc_pr, f1 = evaluate_predictions(Y_pred, Y_test)\n",
        "print(f'AUROC: {auc_roc}, AUPR: {auc_pr}, F1: {f1}')"
      ],
      "metadata": {
        "colab": {
          "base_uri": "https://localhost:8080/"
        },
        "id": "hNtHiavrajpy",
        "outputId": "050027b1-7ea7-4f4f-d7a1-188d66647973"
      },
      "execution_count": 36,
      "outputs": [
        {
          "output_type": "stream",
          "name": "stdout",
          "text": [
            "Evaluvate training dataset:\n",
            "\n",
            "Percentage of positive labels in training dataset: 16.86 %\n",
            "(15000,) (15000,)\n",
            "Probs Labels\n",
            "[[0.001 0.000]\n",
            " [0.416 1.000]\n",
            " [0.000 0.000]\n",
            " [0.003 0.000]\n",
            " [0.590 1.000]\n",
            " [0.306 0.000]\n",
            " [0.000 0.000]\n",
            " [0.004 0.000]\n",
            " [0.252 0.000]\n",
            " [0.002 0.000]\n",
            " [0.968 1.000]\n",
            " [0.432 0.000]\n",
            " [0.006 0.000]\n",
            " [0.000 0.000]\n",
            " [0.000 0.000]\n",
            " [0.000 0.000]\n",
            " [0.000 0.000]\n",
            " [0.090 0.000]\n",
            " [0.003 0.000]\n",
            " [0.000 0.000]\n",
            " [0.005 0.000]\n",
            " [0.716 1.000]\n",
            " [0.001 0.000]\n",
            " [0.000 0.000]\n",
            " [0.000 0.000]\n",
            " [0.032 0.000]\n",
            " [0.118 0.000]\n",
            " [0.000 0.000]\n",
            " [0.005 0.000]\n",
            " [0.000 0.000]]\n",
            "AUROC: 0.9933651845313947, AUPR: 0.9727426843980392, F1: 0.9095305258915979\n"
          ]
        }
      ]
    },
    {
      "cell_type": "code",
      "source": [
        "print('Evaluvate valid dataset:\\n')\n",
        "\n",
        "Y_pred, Y_test, Attens = eval_model(model, gct_params, valid_data_loader)\n",
        "print('Percentage of positive labels in valid dataset:', (Y_test == 1).sum() / len(Y_test) * 100, '%')\n",
        "\n",
        "print(Y_pred.shape, Y_test.shape)\n",
        "print('Probs', 'Labels')\n",
        "print(np.stack((Y_pred, Y_test), axis=-1)[:30])\n",
        "\n",
        "auc_roc, auc_pr, f1 = evaluate_predictions(Y_pred, Y_test)\n",
        "print(f'AUROC: {auc_roc}, AUPR: {auc_pr}, F1: {f1}')"
      ],
      "metadata": {
        "colab": {
          "base_uri": "https://localhost:8080/"
        },
        "outputId": "9ffc3696-329e-499b-bf63-a838b952b01d",
        "id": "hofFFlewKIkw"
      },
      "execution_count": 37,
      "outputs": [
        {
          "output_type": "stream",
          "name": "stdout",
          "text": [
            "Evaluvate valid dataset:\n",
            "\n",
            "Percentage of positive labels in valid dataset: 17.0 %\n",
            "(1000,) (1000,)\n",
            "Probs Labels\n",
            "[[0.746 0.000]\n",
            " [1.000 0.000]\n",
            " [0.179 0.000]\n",
            " [0.000 0.000]\n",
            " [0.046 0.000]\n",
            " [0.355 0.000]\n",
            " [0.432 1.000]\n",
            " [0.267 0.000]\n",
            " [0.000 0.000]\n",
            " [0.957 0.000]\n",
            " [0.022 0.000]\n",
            " [0.014 0.000]\n",
            " [0.165 0.000]\n",
            " [0.153 0.000]\n",
            " [0.010 1.000]\n",
            " [0.027 0.000]\n",
            " [0.999 0.000]\n",
            " [0.280 0.000]\n",
            " [0.163 1.000]\n",
            " [0.845 1.000]\n",
            " [0.071 0.000]\n",
            " [0.013 0.000]\n",
            " [0.046 0.000]\n",
            " [0.913 0.000]\n",
            " [0.103 1.000]\n",
            " [1.000 0.000]\n",
            " [0.925 0.000]\n",
            " [0.499 0.000]\n",
            " [0.623 0.000]\n",
            " [0.680 0.000]]\n",
            "AUROC: 0.48642806520198445, AUPR: 0.16212240447579085, F1: 0.22809917355371906\n"
          ]
        }
      ]
    },
    {
      "cell_type": "code",
      "source": [
        "sample_idx = np.random.randint(0, Attens.shape[0])\n",
        "print(sample_idx)\n",
        "\n",
        "plot_attentions(Attens, sample_idx)"
      ],
      "metadata": {
        "colab": {
          "base_uri": "https://localhost:8080/",
          "height": 335
        },
        "outputId": "05bb0b54-883a-403f-99ef-8bd1381f55e0",
        "id": "FhVQDnqlKIkx"
      },
      "execution_count": 38,
      "outputs": [
        {
          "output_type": "stream",
          "name": "stdout",
          "text": [
            "643\n"
          ]
        },
        {
          "output_type": "display_data",
          "data": {
            "text/plain": [
              "<Figure size 1200x300 with 6 Axes>"
            ],
            "image/png": "[encoded data removed]"
          },
          "metadata": {}
        }
      ]
    },
    {
      "cell_type": "markdown",
      "source": [
        "## Ablation Experiment - Transformer Model"
      ],
      "metadata": {
        "id": "V_JEi4g3wM-J"
      }
    },
    {
      "cell_type": "code",
      "source": [
        "gct_params = {\n",
        "    \"embedding_size\": 128,\n",
        "    \"num_transformer_stack\": 3,\n",
        "    \"num_feedforward\": 2,\n",
        "    \"num_attention_heads\": 1,\n",
        "    \"directed_attention\": False,\n",
        "    \"use_guide\": False,  # Use guide mask\n",
        "    \"use_prior\": False,  # Use conditional probability\n",
        "}\n",
        "\n",
        "model = EHRModel(gct_params)\n",
        "\n",
        "logits, attentions = model(embeddings, masks, guide=None, prior=None, training=False)\n",
        "print(get_loss(labels, logits, attentions, reg_coef=0.1, use_prior=gct_params['use_prior']))\n",
        "print(logits)\n",
        "print(labels)"
      ],
      "metadata": {
        "colab": {
          "base_uri": "https://localhost:8080/"
        },
        "id": "yxSjG5IKXB3T",
        "outputId": "3a1b9b2d-7ce5-4ab0-9051-65aa39314333"
      },
      "execution_count": 39,
      "outputs": [
        {
          "output_type": "stream",
          "name": "stdout",
          "text": [
            "tensor(1.0182, grad_fn=<BinaryCrossEntropyWithLogitsBackward0>)\n",
            "tensor([-6.8926e+00, -6.4644e+00, -3.6201e+00, -4.2228e+00, -3.6313e+00,\n",
            "        -5.6000e+00, -5.6790e+00,  1.5088e+00, -6.1575e-01, -1.0747e+01,\n",
            "        -3.0139e+00, -3.4713e+00, -6.1972e+00, -5.8459e-01,  9.1088e-01,\n",
            "        -1.6592e+01, -3.3508e+00, -1.6831e+00, -5.0130e+00, -6.4018e+00,\n",
            "        -6.6972e+00, -9.2752e-01, -2.5201e+00, -5.0215e+00, -1.4702e+00,\n",
            "        -3.1470e+00, -6.2930e+00, -2.4421e+00, -2.9369e+00, -5.4604e+00,\n",
            "        -2.0793e+00,  3.4838e-03], grad_fn=<SqueezeBackward1>)\n",
            "tensor([0., 0., 0., 0., 0., 0., 0., 0., 0., 0., 0., 1., 0., 0., 0., 1., 0., 1.,\n",
            "        1., 0., 0., 0., 0., 0., 0., 0., 0., 0., 0., 0., 0., 0.])\n"
          ]
        }
      ]
    },
    {
      "cell_type": "code",
      "source": [
        "model_path = os.path.join(PROJ_DIR, 'pytorch/transformer-model.pth')\n",
        "TRAIN_MODEL = not os.path.exists(model_path)\n",
        "# TRAIN_MODEL = False\n",
        "\n",
        "if TRAIN_MODEL:\n",
        "  model, loss_history = train_model(model, gct_params, train_data_loader, saving_path=model_path, n_epoch=30)\n",
        "else:\n",
        "  model.load_state_dict(torch.load(model_path))\n",
        "  print('Model loaded.')"
      ],
      "metadata": {
        "colab": {
          "base_uri": "https://localhost:8080/"
        },
        "id": "iGGp-ieipeFa",
        "outputId": "77534e1c-8ce7-4f29-c007-2ff2ca200461"
      },
      "execution_count": 40,
      "outputs": [
        {
          "output_type": "stream",
          "name": "stdout",
          "text": [
            "Model loaded.\n"
          ]
        }
      ]
    },
    {
      "cell_type": "markdown",
      "source": [
        "```\n",
        "Epoch 01: Current Epoch Loss = 0.5321193779709497 | Model Saving = False\n",
        "Epoch 02: Current Epoch Loss = 0.4652942343434291 | Model Saving = True\n",
        "Epoch 03: Current Epoch Loss = 0.43973866851726323 | Model Saving = True\n",
        "Epoch 04: Current Epoch Loss = 0.4247698040246201 | Model Saving = True\n",
        "Epoch 05: Current Epoch Loss = 0.41014998048734563 | Model Saving = True\n",
        "Epoch 06: Current Epoch Loss = 0.3925960907486202 | Model Saving = True\n",
        "Epoch 07: Current Epoch Loss = 0.3792679851878681 | Model Saving = True\n",
        "Epoch 08: Current Epoch Loss = 0.3625848853766029 | Model Saving = True\n",
        "Epoch 09: Current Epoch Loss = 0.3415393904486953 | Model Saving = True\n",
        "Epoch 10: Current Epoch Loss = 0.32288252185783917 | Model Saving = True\n",
        "Epoch 11: Current Epoch Loss = 0.3056293158515938 | Model Saving = True\n",
        "Epoch 12: Current Epoch Loss = 0.2817051833721875 | Model Saving = True\n",
        "Epoch 13: Current Epoch Loss = 0.2614868695198346 | Model Saving = True\n",
        "Epoch 14: Current Epoch Loss = 0.24506763051122998 | Model Saving = True\n",
        "Epoch 15: Current Epoch Loss = 0.22728869516744035 | Model Saving = True\n",
        "Epoch 16: Current Epoch Loss = 0.20402611234485468 | Model Saving = True\n",
        "Epoch 17: Current Epoch Loss = 0.20041184590410577 | Model Saving = True\n",
        "Epoch 18: Current Epoch Loss = 0.18310483892573348 | Model Saving = True\n",
        "Epoch 19: Current Epoch Loss = 0.17332585138489187 | Model Saving = True\n",
        "Epoch 20: Current Epoch Loss = 0.16459224239658954 | Model Saving = True\n",
        "Epoch 21: Current Epoch Loss = 0.15878937174595875 | Model Saving = True\n",
        "Epoch 22: Current Epoch Loss = 0.1466944219826508 | Model Saving = True\n",
        "Epoch 23: Current Epoch Loss = 0.13877841358833604 | Model Saving = True\n",
        "Epoch 24: Current Epoch Loss = 0.1333205598527625 | Model Saving = True\n",
        "Epoch 25: Current Epoch Loss = 0.1239477217173589 | Model Saving = True\n",
        "Epoch 26: Current Epoch Loss = 0.12780700053280986 | Model Saving = False\n",
        "Epoch 27: Current Epoch Loss = 0.11823994086892493 | Model Saving = True\n",
        "Epoch 28: Current Epoch Loss = 0.12398828532514987 | Model Saving = False\n",
        "Epoch 29: Current Epoch Loss = 0.11527246006452707 | Model Saving = True\n",
        "Epoch 30: Current Epoch Loss = 0.11358764953315575 | Model Saving = True\n",
        "Training time: 2.7726437290509542 min\n",
        "```"
      ],
      "metadata": {
        "id": "A6u_N5XSj4MJ"
      }
    },
    {
      "cell_type": "code",
      "source": [
        "print('Evaluvate training dataset:\\n')\n",
        "\n",
        "Y_pred, Y_test, _ = eval_model(model, gct_params, train_data_loader)\n",
        "print('Percentage of positive labels in training dataset:', (Y_test == 1).sum() / len(Y_test) * 100, '%')\n",
        "\n",
        "print(Y_pred.shape, Y_test.shape)\n",
        "print('Probs', 'Labels')\n",
        "print(np.stack((Y_pred, Y_test), axis=-1)[:30])\n",
        "\n",
        "auc_roc, auc_pr, f1 = evaluate_predictions(Y_pred, Y_test)\n",
        "print(f'AUROC: {auc_roc}, AUPR: {auc_pr}, F1: {f1}')"
      ],
      "metadata": {
        "colab": {
          "base_uri": "https://localhost:8080/"
        },
        "outputId": "cba000de-61c8-4f66-d1fa-a8b4815241fb",
        "id": "IPgz63sZ52bJ"
      },
      "execution_count": 41,
      "outputs": [
        {
          "output_type": "stream",
          "name": "stdout",
          "text": [
            "Evaluvate training dataset:\n",
            "\n",
            "Percentage of positive labels in training dataset: 16.86 %\n",
            "(15000,) (15000,)\n",
            "Probs Labels\n",
            "[[0.000 0.000]\n",
            " [0.000 0.000]\n",
            " [0.104 0.000]\n",
            " [0.000 0.000]\n",
            " [0.000 0.000]\n",
            " [0.000 0.000]\n",
            " [0.002 0.000]\n",
            " [0.000 0.000]\n",
            " [0.000 0.000]\n",
            " [0.003 0.000]\n",
            " [0.012 0.000]\n",
            " [0.001 0.000]\n",
            " [0.000 0.000]\n",
            " [0.011 0.000]\n",
            " [0.006 0.000]\n",
            " [0.000 0.000]\n",
            " [0.003 0.000]\n",
            " [0.014 0.000]\n",
            " [0.000 0.000]\n",
            " [0.025 0.000]\n",
            " [0.020 0.000]\n",
            " [0.261 1.000]\n",
            " [0.000 0.000]\n",
            " [0.034 0.000]\n",
            " [0.000 0.000]\n",
            " [0.000 0.000]\n",
            " [0.000 0.000]\n",
            " [0.000 0.000]\n",
            " [0.000 0.000]\n",
            " [0.000 0.000]]\n",
            "AUROC: 0.9957363638009499, AUPR: 0.9822001547307834, F1: 0.9289867109634552\n"
          ]
        }
      ]
    },
    {
      "cell_type": "code",
      "source": [
        "print('Evaluvate valid dataset:\\n')\n",
        "\n",
        "Y_pred, Y_test, Attens = eval_model(model, gct_params, valid_data_loader)\n",
        "print('Percentage of positive labels in valid dataset:', (Y_test == 1).sum() / len(Y_test) * 100, '%')\n",
        "\n",
        "print(Y_pred.shape, Y_test.shape)\n",
        "print('Probs', 'Labels')\n",
        "print(np.stack((Y_pred, Y_test), axis=-1)[:30])\n",
        "\n",
        "auc_roc, auc_pr, f1 = evaluate_predictions(Y_pred, Y_test)\n",
        "print(f'AUROC: {auc_roc}, AUPR: {auc_pr}, F1: {f1}')"
      ],
      "metadata": {
        "colab": {
          "base_uri": "https://localhost:8080/"
        },
        "outputId": "b44414b4-71f9-484b-fbba-b1bbe0c4257c",
        "id": "gRaV4c3852bT"
      },
      "execution_count": 42,
      "outputs": [
        {
          "output_type": "stream",
          "name": "stdout",
          "text": [
            "Evaluvate valid dataset:\n",
            "\n",
            "Percentage of positive labels in valid dataset: 17.0 %\n",
            "(1000,) (1000,)\n",
            "Probs Labels\n",
            "[[0.016 1.000]\n",
            " [0.000 0.000]\n",
            " [0.977 0.000]\n",
            " [0.663 0.000]\n",
            " [0.001 1.000]\n",
            " [0.002 0.000]\n",
            " [0.975 1.000]\n",
            " [0.111 1.000]\n",
            " [0.034 0.000]\n",
            " [0.036 0.000]\n",
            " [0.000 0.000]\n",
            " [0.102 0.000]\n",
            " [0.022 0.000]\n",
            " [0.000 0.000]\n",
            " [0.039 0.000]\n",
            " [0.000 1.000]\n",
            " [0.000 0.000]\n",
            " [0.002 0.000]\n",
            " [0.013 1.000]\n",
            " [0.000 0.000]\n",
            " [0.090 0.000]\n",
            " [0.013 0.000]\n",
            " [0.741 0.000]\n",
            " [0.003 0.000]\n",
            " [0.000 0.000]\n",
            " [0.001 0.000]\n",
            " [0.001 0.000]\n",
            " [0.008 0.000]\n",
            " [0.077 0.000]\n",
            " [0.000 0.000]]\n",
            "AUROC: 0.5718284904323174, AUPR: 0.20706832080260237, F1: 0.16606498194945848\n"
          ]
        }
      ]
    },
    {
      "cell_type": "code",
      "source": [
        "# sample_idx = np.random.randint(0, Attens.shape[0])\n",
        "print(sample_idx)\n",
        "\n",
        "plot_attentions(Attens, sample_idx)"
      ],
      "metadata": {
        "id": "XhNqbWeg4LZz",
        "colab": {
          "base_uri": "https://localhost:8080/",
          "height": 335
        },
        "outputId": "06581d32-55e0-4fc9-97f8-f59a310bc4dc"
      },
      "execution_count": 43,
      "outputs": [
        {
          "output_type": "stream",
          "name": "stdout",
          "text": [
            "643\n"
          ]
        },
        {
          "output_type": "display_data",
          "data": {
            "text/plain": [
              "<Figure size 1200x300 with 6 Axes>"
            ],
            "image/png": "[encoded data removed]"
          },
          "metadata": {}
        }
      ]
    },
    {
      "cell_type": "markdown",
      "source": [
        "## Summary of Results\n",
        "\n",
        "**In terms of Hypothesis 1**:\n",
        "\n",
        "In terms of attention score patterns (i.e., graph structure), we can observe that attention only occur outside of the padding locations. In particular, the patterns of layer 2 and layer 3 in the GCT model match the prior, which is the layer 1 pattern.\n",
        "\n",
        "**In terms of Hypothesis 2**:\n",
        "\n",
        "The performance metrics of the GCT and Transformer Models using the hold-out dataset are listed beblow:\n",
        "\n",
        "<img src=\"https://drive.google.com/uc?id=1HMxH9xTV51EkWQ2hsdoF5XEz7xpikFxJ\" width=\"700\" height=\"200\" alt=\"Model Architecture\">\n",
        "\n",
        "For both models, my reproducing results were inferiror to those reported in the original paper. In particular, my results do not show that the GCT model can outperform the Transformer model."
      ],
      "metadata": {
        "id": "PeMSHI5YJjta"
      }
    },
    {
      "cell_type": "markdown",
      "source": [
        "# Discussion\n",
        "\n",
        "## Reproducibility\n",
        "\n",
        "The original code was developed using Tensorflow 1 and Python 2. In this project, I deveoped two versions of the GCT model using Tensorflow 2 and PyTorch through careful coding and debugging. For both the Tensorflow 2 or PyTorch versions, the learning curves behave pretty well (i.e., the losses during training decreased monotonically), and the magitude of training losses in both versions is similar. However, I cannot reproduce the performance metrics (AUC-ROC and AUC-PR) using the hold-out dataset.   \n",
        "\n",
        "The potential factors causing the irreproducible results include:\n",
        "\n",
        "1. The preprocessing code for eICU database was written using Python 2. When transferring it to Python 3, I may introduce coding bugs, causing the incorrect training and hold-out datasets.\n",
        "\n",
        "2. The authors may not provide the newest code in their repo, as I have noticed some bugs. For example, in the provided code, when the embeddings `hidden`, with a shape (`batches, seq_len, embeddings`) from the GCT output are fed to the final classification layer, the authors simply adopted `hidden[:, 0, :]`. I think that this does not make sense, so I have changed it to hidden.sum(dim=1), as a pooling of all embeddings of the whole sequence.\n",
        "\n",
        "## “What was easy”\n",
        "\n",
        "The original paper was well written, and it is easy to access the author's repo.\n",
        "\n",
        "## “What was difficult”\n",
        "\n",
        "It is extremely challenging to develop the PyTorch version based on the orignal codes wirtten by Tensorflow 1. I have took a long time to read the original code, and develope multi-layer, multi-headed Transformer with a permission to input prior graph structure (i.e., conditional probability computed from the training data).\n",
        "\n",
        "## Recommendations for improving reproducibility\n",
        "\n",
        "Future work should further debug preprocessing code, ensuring that the generate tensors are correct for Tensforflow 2 and PyTorch models.\n"
      ],
      "metadata": {
        "id": "Mr3U3sbIMw-c"
      }
    },
    {
      "cell_type": "code",
      "source": [],
      "metadata": {
        "id": "jNTcvd00S9v1"
      },
      "execution_count": 43,
      "outputs": []
    }
  ]
}